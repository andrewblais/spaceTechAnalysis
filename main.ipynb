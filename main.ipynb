{
  "cells": [
    {
      "cell_type": "markdown",
      "metadata": {},
      "source": [
        "# **_Angela Yu Course 100 Days of Code:_**\n",
        "\n",
        "### _The Complete Python Pro Bootcamp_\n",
        "\n",
        "---\n",
        "\n",
        "---\n",
        "\n",
        "## **_Day 99, Assignment 18:_**\n",
        "\n",
        "#### _Data Science: \"Analyse and Visualise the Space Race\"_\n",
        "\n",
        "**Modified version of lesson plan with updated scraped data from dataset and other changes specified in README.md**\n"
      ]
    },
    {
      "cell_type": "markdown",
      "metadata": {},
      "source": [
        "---\n",
        "---\n"
      ]
    },
    {
      "cell_type": "markdown",
      "metadata": {
        "id": "ka_FkvXBiABo"
      },
      "source": [
        "## **_Introduction_**\n"
      ]
    },
    {
      "cell_type": "markdown",
      "metadata": {
        "id": "AWaMmfxXa-p0",
        "papermill": {
          "duration": 0.035434,
          "end_time": "2020-10-20T21:34:01.886225",
          "exception": false,
          "start_time": "2020-10-20T21:34:01.850791",
          "status": "completed"
        },
        "tags": []
      },
      "source": [
        "<img src=\"https://i.imgur.com/9hLRsjZ.jpg\" height=400>\n",
        "\n",
        "<!-- ![Rocket](https://i.imgur.com/9hLRsjZ.jpg) -->\n",
        "\n",
        "This dataset was scraped from [nextspaceflight.com](https://nextspaceflight.com/launches/past/?page=1).\n",
        "\n",
        "It includes all the space missions since the beginning of Space Race between the USA and the Soviet Union in 1957!\n"
      ]
    },
    {
      "cell_type": "markdown",
      "metadata": {
        "id": "sghkhFoLbof8"
      },
      "source": [
        "<font size=2>\n",
        "\n",
        "#### **_Install Package with Country Codes_**\n",
        "\n",
        "```bash\n",
        "pip install iso3166\n",
        "```\n",
        "\n",
        "#### **_Upgrade Plotly_**\n",
        "\n",
        "Run the cell below if you are working with Google Colab.\n",
        "\n",
        "```bash\n",
        "pip install --upgrade plotly\n",
        "```\n",
        "\n",
        "</font>\n"
      ]
    },
    {
      "cell_type": "markdown",
      "metadata": {},
      "source": [
        "---\n"
      ]
    },
    {
      "cell_type": "markdown",
      "metadata": {
        "id": "ErFDBihUi1jN"
      },
      "source": [
        "#### **_Import Statements_**\n"
      ]
    },
    {
      "cell_type": "code",
      "execution_count": null,
      "metadata": {
        "_cell_guid": "b1076dfc-b9ad-4769-8c92-a6c4dae69d19",
        "_kg_hide-input": true,
        "_kg_hide-output": true,
        "_uuid": "8f2839f25d086af736a60e9eeb907d3b93b6e0e5",
        "colab": {
          "base_uri": "https://localhost:8080/"
        },
        "execution": {
          "iopub.execute_input": "2020-10-20T21:34:02.101551Z",
          "iopub.status.busy": "2020-10-20T21:34:02.101085Z",
          "iopub.status.idle": "2020-10-20T21:34:03.726868Z",
          "shell.execute_reply": "2020-10-20T21:34:03.725783Z"
        },
        "id": "xdolY0-Sa-p1",
        "outputId": "7142dedb-82e9-457d-db44-cea4e121bdfe",
        "papermill": {
          "duration": 1.665326,
          "end_time": "2020-10-20T21:34:03.726995",
          "exception": false,
          "start_time": "2020-10-20T21:34:02.061669",
          "status": "completed"
        },
        "tags": []
      },
      "outputs": [],
      "source": [
        "import numpy as np\n",
        "import pandas as pd\n",
        "import plotly.express as px\n",
        "import matplotlib.pyplot as plt\n",
        "import seaborn as sns\n",
        "\n",
        "# These might be helpful:\n",
        "from iso3166 import countries\n",
        "from datetime import datetime, timedelta"
      ]
    },
    {
      "cell_type": "markdown",
      "metadata": {},
      "source": [
        "---\n"
      ]
    },
    {
      "cell_type": "markdown",
      "metadata": {
        "id": "lovGPRgKxIgo"
      },
      "source": [
        "#### **_Notebook Presentation_**\n"
      ]
    },
    {
      "cell_type": "code",
      "execution_count": null,
      "metadata": {
        "id": "DHEULCOjxIIm"
      },
      "outputs": [],
      "source": [
        "pd.options.display.float_format = '{:,.2f}'.format"
      ]
    },
    {
      "cell_type": "markdown",
      "metadata": {},
      "source": [
        "---\n",
        "---\n"
      ]
    },
    {
      "cell_type": "markdown",
      "metadata": {},
      "source": [
        "## **_ANB: I Scraped the Most Recent Data..._**\n",
        "\n",
        "### **_...and updated the CSV._**\n"
      ]
    },
    {
      "cell_type": "markdown",
      "metadata": {},
      "source": [
        "This first entry is a few years old and is on page 24:\n",
        "\n",
        "https://nextspaceflight.com/launches/past/?page=24&search=\n",
        "\n",
        "I'll scrape and update from the website's pages 1-24.\n"
      ]
    },
    {
      "cell_type": "markdown",
      "metadata": {},
      "source": [
        "_In the CSV file see the necessary data:_\n",
        "\n",
        "<font size=1>\n",
        "\n",
        "```csv\n",
        ",Unnamed: 0,Organisation,Location,Date,Detail,Rocket_Status,Price,Mission_Status\n",
        "4323,4323,RVSN USSR,\"Site 1/5, Baikonur Cosmodrome, Kazakhstan\",\"Fri Oct 04, 1957 19:28 UTC\",Sputnik 8K71PS | Sputnik-1,StatusRetired,,Success\n",
        "```\n",
        "\n",
        "```csv\n",
        ",Unnamed: 0,Organisation,Location,Date,Detail,Rocket_Status,Price,Mission_Status\n",
        "0,0,SpaceX,\"LC-39A, Kennedy Space Center, Florida, USA\",\"Fri Aug 07, 2020 05:12 UTC\",Falcon 9 Block 5 | Starlink V1 L9 & BlackSky,StatusActive,50.0,Success\n",
        "```\n",
        "\n",
        "</font>\n"
      ]
    },
    {
      "cell_type": "markdown",
      "metadata": {},
      "source": [
        "I used Selenium for the scrape then Pandas to integrate w/Angela's CSV.\n",
        "\n",
        "See the project `scrapeStuff` folder for all the details...\n"
      ]
    },
    {
      "cell_type": "markdown",
      "metadata": {},
      "source": [
        "---\n",
        "---\n"
      ]
    },
    {
      "cell_type": "markdown",
      "metadata": {
        "id": "yaT3QbjEa-p4",
        "papermill": {
          "duration": 0.034606,
          "end_time": "2020-10-20T21:34:03.798396",
          "exception": false,
          "start_time": "2020-10-20T21:34:03.763790",
          "status": "completed"
        },
        "tags": []
      },
      "source": [
        "#### **_Load the Data_**\n"
      ]
    },
    {
      "cell_type": "code",
      "execution_count": null,
      "metadata": {
        "_cell_guid": "79c7e3d0-c299-4dcb-8224-4455121ee9b0",
        "_kg_hide-input": true,
        "_uuid": "d629ff2d2480ee46fbb7e2d37f6b5fab8052498a",
        "execution": {
          "iopub.execute_input": "2020-10-20T21:34:03.874195Z",
          "iopub.status.busy": "2020-10-20T21:34:03.873775Z",
          "iopub.status.idle": "2020-10-20T21:34:03.921919Z",
          "shell.execute_reply": "2020-10-20T21:34:03.921418Z"
        },
        "id": "0lDOu8aka-p4",
        "papermill": {
          "duration": 0.08876,
          "end_time": "2020-10-20T21:34:03.922028",
          "exception": false,
          "start_time": "2020-10-20T21:34:03.833268",
          "status": "completed"
        },
        "tags": []
      },
      "outputs": [],
      "source": [
        "df_data = pd.read_csv('mission_launches.csv')"
      ]
    },
    {
      "cell_type": "code",
      "execution_count": null,
      "metadata": {},
      "outputs": [],
      "source": [
        "df_data.head(5)"
      ]
    },
    {
      "cell_type": "markdown",
      "metadata": {},
      "source": [
        "For clarity, rename 'Price' to 'Price_US_Mil`\n"
      ]
    },
    {
      "cell_type": "code",
      "execution_count": null,
      "metadata": {},
      "outputs": [],
      "source": [
        "df_data.rename(columns={\"Price\": \"Price_US_Mil\"}, inplace=True)"
      ]
    },
    {
      "cell_type": "code",
      "execution_count": null,
      "metadata": {},
      "outputs": [],
      "source": [
        "df_data"
      ]
    },
    {
      "cell_type": "markdown",
      "metadata": {},
      "source": [
        "---\n",
        "---\n"
      ]
    },
    {
      "cell_type": "markdown",
      "metadata": {
        "id": "jAnMiVcVjuKB"
      },
      "source": [
        "## **_Preliminary Data Exploration_**\n",
        "\n",
        "-   What is the shape of `df_data`?\n",
        "-   How many rows and columns does it have?\n",
        "-   What are the column names?\n",
        "-   Are there any NaN values or duplicates?\n"
      ]
    },
    {
      "cell_type": "code",
      "execution_count": null,
      "metadata": {
        "id": "0tIuYcYNlPFQ"
      },
      "outputs": [],
      "source": [
        "df_shape = df_data.shape\n",
        "rows, columns = df_shape\n",
        "\n",
        "print(f\"`df_data` has a shape of {df_shape}.\")\n",
        "print(f\"Therefore it has {rows} rows and {columns} colunns.\")"
      ]
    },
    {
      "cell_type": "code",
      "execution_count": null,
      "metadata": {
        "id": "0dw2hd9UlPmP"
      },
      "outputs": [],
      "source": [
        "col_names = \", \".join(df_data.columns)\n",
        "\n",
        "print(f\"The column names are {col_names}.\")"
      ]
    },
    {
      "cell_type": "markdown",
      "metadata": {},
      "source": [
        "---\n"
      ]
    },
    {
      "cell_type": "markdown",
      "metadata": {
        "id": "KUN30y6ja-p9",
        "papermill": {
          "duration": 0.05406,
          "end_time": "2020-10-20T21:34:04.149973",
          "exception": false,
          "start_time": "2020-10-20T21:34:04.095913",
          "status": "completed"
        },
        "tags": []
      },
      "source": [
        "### **_Data Cleaning - Check for Missing Values and Duplicates_**\n",
        "\n",
        "Consider removing columns containing junk data.\n",
        "\n",
        "ANB: See below (just after `Descriptive Statistics` section) for continued data cleaning....\n"
      ]
    },
    {
      "cell_type": "markdown",
      "metadata": {},
      "source": [
        "ANB: There is an extra column duplicating the index called \"Unnamed: 0\". I'll remove that:\n"
      ]
    },
    {
      "cell_type": "code",
      "execution_count": null,
      "metadata": {
        "id": "wWQvnJb0k2Ig"
      },
      "outputs": [],
      "source": [
        "df_data = df_data.drop(\"Unnamed: 0\", axis=1)"
      ]
    },
    {
      "cell_type": "code",
      "execution_count": null,
      "metadata": {},
      "outputs": [],
      "source": [
        "df_shape = df_data.shape\n",
        "rows, columns = df_shape\n",
        "\n",
        "print(f\"`df_data` has a shape of {df_shape}.\")\n",
        "print(f\"Therefore it has {rows} rows and {columns} colunns.\")"
      ]
    },
    {
      "cell_type": "markdown",
      "metadata": {},
      "source": [
        "---\n"
      ]
    },
    {
      "cell_type": "markdown",
      "metadata": {},
      "source": [
        "### **_ANB: Convert and make uniform Date values:_**\n",
        "\n",
        "ANB - I'm taking this opportunity to convert the _Date_ column to pd.to_datetime() so we can parse the min/max, etc...\n"
      ]
    },
    {
      "cell_type": "markdown",
      "metadata": {},
      "source": [
        "First I'll need to get all the EDTs to be UTCs.\n",
        "\n",
        "Then, convert to DT objects.\n",
        "\n",
        "Here's the function:\n"
      ]
    },
    {
      "cell_type": "code",
      "execution_count": null,
      "metadata": {},
      "outputs": [],
      "source": [
        "import pytz\n",
        "\n",
        "# Convert EDT times to UTC:\n",
        "\n",
        "\n",
        "def convert_edt_to_utc(date_str):\n",
        "    if 'EDT' in date_str or 'EST' in date_str:\n",
        "        date_str = date_str.replace('EDT', '').replace('EST', '').strip()\n",
        "        dt = pd.to_datetime(date_str)\n",
        "        edt_tz = pytz.timezone('US/Eastern')\n",
        "        dt_utc = edt_tz.localize(dt).astimezone(pytz.utc)\n",
        "        return dt_utc\n",
        "    else:\n",
        "        return pd.to_datetime(date_str)\n",
        "\n",
        "\n",
        "df_data['Date'] = df_data['Date'].apply(convert_edt_to_utc)"
      ]
    },
    {
      "cell_type": "code",
      "execution_count": null,
      "metadata": {},
      "outputs": [],
      "source": [
        "# # Inspect `df_data.Date`:\n",
        "# for i in df_data.Date:\n",
        "#     print(i)"
      ]
    },
    {
      "cell_type": "markdown",
      "metadata": {},
      "source": [
        "Some vals look different:\n",
        "\n",
        "1958-09-23 07:40:00+00:00\n",
        "1958-08-29 00:00:00\n",
        "\n",
        "Let's address this:\n"
      ]
    },
    {
      "cell_type": "code",
      "execution_count": null,
      "metadata": {},
      "outputs": [],
      "source": [
        "def convert_to_utc(dt_obj):\n",
        "    if dt_obj.tzinfo:\n",
        "        return dt_obj.astimezone(pytz.utc)\n",
        "    else:\n",
        "        return pytz.utc.localize(dt_obj)"
      ]
    },
    {
      "cell_type": "code",
      "execution_count": null,
      "metadata": {},
      "outputs": [],
      "source": [
        "df_data.Date = df_data.Date.apply(convert_to_utc)"
      ]
    },
    {
      "cell_type": "code",
      "execution_count": null,
      "metadata": {},
      "outputs": [],
      "source": [
        "# # Reinspect:\n",
        "# for i in df_data.Date:\n",
        "#     print(i)"
      ]
    },
    {
      "cell_type": "markdown",
      "metadata": {},
      "source": [
        "---\n"
      ]
    },
    {
      "cell_type": "markdown",
      "metadata": {},
      "source": [
        "### **_ANB: Convert Price values to nums:_**\n"
      ]
    },
    {
      "cell_type": "code",
      "execution_count": null,
      "metadata": {},
      "outputs": [],
      "source": [
        "# # Inspect the column:\n",
        "# for i in df_data.Price_US_Mil:\n",
        "#     print(i)"
      ]
    },
    {
      "cell_type": "markdown",
      "metadata": {},
      "source": [
        "This is returning items like `1,160`.\n",
        "\n",
        "Since this column indicates millions, that would mean 1.16 billion.\n",
        "\n",
        "So let's just remove the commas before type conversion:\n"
      ]
    },
    {
      "cell_type": "code",
      "execution_count": null,
      "metadata": {},
      "outputs": [],
      "source": [
        "def remove_commas_and_make_float(price_entry):\n",
        "    if type(price_entry) is str:\n",
        "        if ',' in price_entry:\n",
        "            price_entry = price_entry.replace(',', '')\n",
        "        return float(price_entry)\n",
        "    else:\n",
        "        return price_entry"
      ]
    },
    {
      "cell_type": "code",
      "execution_count": null,
      "metadata": {},
      "outputs": [],
      "source": [
        "df_data.Price_US_Mil = df_data.Price_US_Mil.apply(remove_commas_and_make_float)"
      ]
    },
    {
      "cell_type": "markdown",
      "metadata": {},
      "source": [
        "---\n",
        "\n",
        "### **_Descriptive Statistics_**\n"
      ]
    },
    {
      "cell_type": "markdown",
      "metadata": {},
      "source": [
        "Now the descriptive statistics:\n"
      ]
    },
    {
      "cell_type": "code",
      "execution_count": null,
      "metadata": {},
      "outputs": [],
      "source": [
        "df_data.info()"
      ]
    },
    {
      "cell_type": "code",
      "execution_count": null,
      "metadata": {},
      "outputs": [],
      "source": [
        "df_data.describe()"
      ]
    },
    {
      "cell_type": "code",
      "execution_count": null,
      "metadata": {},
      "outputs": [],
      "source": [
        "df_data.Date.max()"
      ]
    },
    {
      "cell_type": "code",
      "execution_count": null,
      "metadata": {},
      "outputs": [],
      "source": [
        "df_data.Date.min()"
      ]
    },
    {
      "cell_type": "code",
      "execution_count": null,
      "metadata": {},
      "outputs": [],
      "source": [
        "df_data.Price_US_Mil.describe()"
      ]
    },
    {
      "cell_type": "code",
      "execution_count": null,
      "metadata": {},
      "outputs": [],
      "source": [
        "df_data.Date.describe()"
      ]
    },
    {
      "cell_type": "code",
      "execution_count": null,
      "metadata": {},
      "outputs": [],
      "source": [
        "# # Inspect the column:\n",
        "# for i in df_data.Price_US_Mil:\n",
        "#     print(i)"
      ]
    },
    {
      "cell_type": "markdown",
      "metadata": {},
      "source": [
        "---\n"
      ]
    },
    {
      "cell_type": "markdown",
      "metadata": {},
      "source": [
        "### **_ANB: More Data Cleaning - Check for Missing Values and Duplicates_**\n"
      ]
    },
    {
      "cell_type": "markdown",
      "metadata": {},
      "source": [
        "#### Check null vals:\n"
      ]
    },
    {
      "cell_type": "code",
      "execution_count": null,
      "metadata": {},
      "outputs": [],
      "source": [
        "df_data.isnull().describe()"
      ]
    },
    {
      "cell_type": "code",
      "execution_count": null,
      "metadata": {},
      "outputs": [],
      "source": [
        "df_data.isna().sum()"
      ]
    },
    {
      "cell_type": "markdown",
      "metadata": {},
      "source": [
        "Price has 5012 nan vals.\n"
      ]
    },
    {
      "cell_type": "code",
      "execution_count": null,
      "metadata": {},
      "outputs": [],
      "source": [
        "df_data.notna().sum()"
      ]
    },
    {
      "cell_type": "markdown",
      "metadata": {},
      "source": [
        "Every other column has no null vals. I think we're good to go on that score.\n"
      ]
    },
    {
      "cell_type": "markdown",
      "metadata": {},
      "source": [
        "#### Check duplicates:\n"
      ]
    },
    {
      "cell_type": "code",
      "execution_count": null,
      "metadata": {},
      "outputs": [],
      "source": [
        "df_data.duplicated().sum()"
      ]
    },
    {
      "cell_type": "markdown",
      "metadata": {},
      "source": [
        "Remove all duplicates in-place:\n"
      ]
    },
    {
      "cell_type": "code",
      "execution_count": null,
      "metadata": {},
      "outputs": [],
      "source": [
        "df_data.drop_duplicates(inplace=True)"
      ]
    },
    {
      "cell_type": "code",
      "execution_count": null,
      "metadata": {},
      "outputs": [],
      "source": [
        "df_data.duplicated().sum()"
      ]
    },
    {
      "cell_type": "markdown",
      "metadata": {},
      "source": [
        "Duplicates removed.\n"
      ]
    },
    {
      "cell_type": "markdown",
      "metadata": {},
      "source": [
        "---\n",
        "---\n"
      ]
    },
    {
      "cell_type": "markdown",
      "metadata": {
        "id": "cgCjcpeUkKPW"
      },
      "source": [
        "## **_Number of Launches per Company_**\n",
        "\n",
        "Create a chart that shows the number of space mission launches by organisation.\n"
      ]
    },
    {
      "cell_type": "markdown",
      "metadata": {},
      "source": [
        "Create series with value counts from `df_data[\"Organisation]`:\n"
      ]
    },
    {
      "cell_type": "code",
      "execution_count": null,
      "metadata": {
        "id": "rxvcIrtskxYB"
      },
      "outputs": [],
      "source": [
        "series_organisation = df_data.Organisation.value_counts()"
      ]
    },
    {
      "cell_type": "code",
      "execution_count": null,
      "metadata": {},
      "outputs": [],
      "source": [
        "series_organisation"
      ]
    },
    {
      "cell_type": "markdown",
      "metadata": {},
      "source": [
        "<font size=1>\n",
        "\n",
        "```python\n",
        "import numpy as np\n",
        "import pandas as pd\n",
        "import plotly.express as px\n",
        "import matplotlib.pyplot as plt\n",
        "import seaborn as sns\n",
        "from iso3166 import countries\n",
        "from datetime import datetime, timedelta\n",
        "```\n",
        "\n",
        "</font>\n"
      ]
    },
    {
      "cell_type": "markdown",
      "metadata": {},
      "source": [
        "I tried pie charts but they're too congested...\n"
      ]
    },
    {
      "cell_type": "code",
      "execution_count": null,
      "metadata": {},
      "outputs": [],
      "source": [
        "plt.figure(figsize=(15, 15), dpi=120)\n",
        "plt.title(\"Space Mission Launches by Organisation\")\n",
        "\n",
        "plt.pie(series_organisation, labels=series_organisation.index)\n",
        "\n",
        "plt.show()"
      ]
    },
    {
      "cell_type": "code",
      "execution_count": null,
      "metadata": {},
      "outputs": [],
      "source": [
        "fig = px.pie(\n",
        "    names=series_organisation.index,\n",
        "    values=series_organisation,\n",
        "    labels=series_organisation.index,\n",
        "    height=1000,\n",
        "    width=1000,\n",
        ")\n",
        "\n",
        "fig.update_layout(\n",
        "    title=dict(text=\"Missions by Organisation\", font=dict(\n",
        "        size=24), automargin=True, yref='paper'),\n",
        ")\n",
        "\n",
        "\n",
        "# fig.update_traces(textposition='outside', textinfo='percent+label')\n",
        "fig.update_traces(textposition='inside', textinfo='percent+label')\n",
        "\n",
        "fig.show()"
      ]
    },
    {
      "cell_type": "markdown",
      "metadata": {},
      "source": [
        "So trying bar chart instead...\n"
      ]
    },
    {
      "cell_type": "code",
      "execution_count": null,
      "metadata": {},
      "outputs": [],
      "source": [
        "import matplotlib.colors as mcolors\n",
        "from random import choices\n",
        "\n",
        "css_colors = list(mcolors.CSS4_COLORS.keys())\n",
        "\n",
        "bar_colors = choices(css_colors, k=len(series_organisation))"
      ]
    },
    {
      "cell_type": "code",
      "execution_count": null,
      "metadata": {
        "id": "qgneHUbWkw5v"
      },
      "outputs": [],
      "source": [
        "fig, ax = plt.subplots(figsize=(30, 15))\n",
        "\n",
        "ax.bar(series_organisation.index,\n",
        "       series_organisation,\n",
        "       label=series_organisation.index,\n",
        "       color=bar_colors)\n",
        "\n",
        "ax.set_xlabel(\"Organisation Name\")\n",
        "ax.set_ylabel(\"Number of Launches\")\n",
        "ax.set_title(\"Space Mission Launches by Organisation\")\n",
        "ax.legend(title=\"Organisation\")\n",
        "\n",
        "sns.set_theme(style='white')\n",
        "\n",
        "plt.legend(ncol=10)\n",
        "plt.xticks(rotation=45)\n",
        "plt.show()"
      ]
    },
    {
      "cell_type": "markdown",
      "metadata": {},
      "source": [
        "This plot has values too varied for clear visual representation of smaller values, so break into four plots. Consider creating lists with more efficient algorithm:\n"
      ]
    },
    {
      "cell_type": "code",
      "execution_count": null,
      "metadata": {},
      "outputs": [],
      "source": [
        "len_4 = len(series_organisation) // 4\n",
        "\n",
        "names_1 = series_organisation.index[:len_4]\n",
        "vals_1 = series_organisation[:len_4]\n",
        "colors_1 = choices(css_colors, k=len(vals_1))\n",
        "\n",
        "names_2 = series_organisation.index[len_4:len_4 * 2]\n",
        "vals_2 = series_organisation[len_4:len_4 * 2]\n",
        "colors_2 = choices(css_colors, k=len(vals_2))\n",
        "\n",
        "names_3 = series_organisation.index[len_4 * 2:len_4 * 3]\n",
        "vals_3 = series_organisation[len_4 * 2:len_4 * 3]\n",
        "colors_3 = choices(css_colors, k=len(vals_3))\n",
        "\n",
        "names_4 = series_organisation.index[len_4 * 3:]\n",
        "vals_4 = series_organisation[len_4 * 3:]\n",
        "colors_4 = choices(css_colors, k=len(vals_4))"
      ]
    },
    {
      "cell_type": "code",
      "execution_count": null,
      "metadata": {},
      "outputs": [],
      "source": [
        "fig, ax = plt.subplots(figsize=(14, 7), dpi=120)\n",
        "\n",
        "ax.bar(names_1,\n",
        "       vals_1,\n",
        "       label=names_1,\n",
        "       color=colors_1)\n",
        "\n",
        "ax.set_title(\"Space Mission Launches by Organisation 1/4\", fontsize=24)\n",
        "ax.set_xlabel(\"Organisation Name\", fontsize=18)\n",
        "ax.set_ylabel(\"Number of Launches\", fontsize=18)\n",
        "ax.legend(title=\"Organisation\")\n",
        "\n",
        "plt.legend(ncol=2)\n",
        "plt.xticks(rotation=90)\n",
        "plt.show()"
      ]
    },
    {
      "cell_type": "code",
      "execution_count": null,
      "metadata": {},
      "outputs": [],
      "source": [
        "fig, ax = plt.subplots(figsize=(14, 7), dpi=120)\n",
        "\n",
        "ax.bar(names_2,\n",
        "       vals_2,\n",
        "       label=names_2,\n",
        "       color=colors_2)\n",
        "\n",
        "ax.set_title(\"Space Mission Launches by Organisation 2/4\", fontsize=24)\n",
        "ax.set_xlabel(\"Organisation Name\", fontsize=18)\n",
        "ax.set_ylabel(\"Number of Launches\", fontsize=18)\n",
        "ax.legend(title=\"Organisation\")\n",
        "\n",
        "plt.legend(ncol=2)\n",
        "plt.xticks(rotation=90)\n",
        "plt.show()"
      ]
    },
    {
      "cell_type": "code",
      "execution_count": null,
      "metadata": {},
      "outputs": [],
      "source": [
        "fig, ax = plt.subplots(figsize=(14, 7), dpi=120)\n",
        "\n",
        "ax.bar(names_3,\n",
        "       vals_3,\n",
        "       label=names_3,\n",
        "       color=colors_3)\n",
        "\n",
        "ax.set_title(\"Space Mission Launches by Organisation 3/4\", fontsize=24)\n",
        "ax.set_xlabel(\"Organisation Name\", fontsize=18)\n",
        "ax.set_ylabel(\"Number of Launches\", fontsize=18)\n",
        "ax.legend(title=\"Organisation\")\n",
        "\n",
        "plt.legend(ncol=2)\n",
        "plt.xticks(rotation=90)\n",
        "plt.show()"
      ]
    },
    {
      "cell_type": "code",
      "execution_count": null,
      "metadata": {},
      "outputs": [],
      "source": [
        "fig, ax = plt.subplots(figsize=(14, 7), dpi=120)\n",
        "\n",
        "ax.bar(names_4,\n",
        "       vals_4,\n",
        "       label=names_4,\n",
        "       color=colors_4)\n",
        "\n",
        "ax.set_title(\"Space Mission Launches by Organisation 4/4\", fontsize=24)\n",
        "ax.set_xlabel(\"Organisation Name\", fontsize=18)\n",
        "ax.set_ylabel(\"Number of Launches\", fontsize=18)\n",
        "ax.legend(title=\"Organisation\")\n",
        "\n",
        "plt.legend(ncol=2)\n",
        "plt.xticks(rotation=90)\n",
        "plt.show()"
      ]
    },
    {
      "cell_type": "markdown",
      "metadata": {},
      "source": [
        "That looks good for now!\n"
      ]
    },
    {
      "cell_type": "markdown",
      "metadata": {},
      "source": [
        "---\n",
        "---\n"
      ]
    },
    {
      "cell_type": "markdown",
      "metadata": {
        "id": "7Gwteht2kR_h"
      },
      "source": [
        "## **_Number of Active versus Retired Rockets_**\n",
        "\n",
        "How many rockets are active compared to those that are decomissioned?\n"
      ]
    },
    {
      "cell_type": "code",
      "execution_count": null,
      "metadata": {
        "id": "SxmOWS9cmTq6"
      },
      "outputs": [],
      "source": [
        "rocket_status_value_counts = df_data.Rocket_Status.value_counts()\n",
        "\n",
        "retired_val, active_val = rocket_status_value_counts.tolist()\n",
        "retired_label, active_label = rocket_status_value_counts.index.tolist()\n",
        "\n",
        "print(f\"Number of {retired_label}: {retired_val}.\")\n",
        "print(f\"Number of {active_label}: {active_val}.\")"
      ]
    },
    {
      "cell_type": "code",
      "execution_count": null,
      "metadata": {},
      "outputs": [],
      "source": [
        "# Simplest plot:\n",
        "plt.figure(figsize=(7, 7))\n",
        "plt.title(\"Active versus Retired Rockets\")\n",
        "\n",
        "plt.pie(rocket_status_value_counts.tolist(),\n",
        "        labels=rocket_status_value_counts.index.tolist())\n",
        "\n",
        "plt.legend(rocket_status_value_counts.tolist())\n",
        "plt.show()"
      ]
    },
    {
      "cell_type": "code",
      "execution_count": null,
      "metadata": {},
      "outputs": [],
      "source": [
        "# More descriptive plot:\n",
        "fix, ax = plt.subplots(figsize=(7, 7))\n",
        "\n",
        "ax.pie(rocket_status_value_counts.tolist(),\n",
        "       labels=rocket_status_value_counts.index.tolist(),\n",
        "       autopct='%.1f%%')\n",
        "\n",
        "ax.set_title(\"Active versus Retired Rockets\")\n",
        "plt.legend(rocket_status_value_counts.tolist())\n",
        "plt.show()"
      ]
    },
    {
      "cell_type": "markdown",
      "metadata": {},
      "source": [
        "---\n",
        "---\n"
      ]
    },
    {
      "cell_type": "markdown",
      "metadata": {
        "id": "y9WtP5xWkYkp"
      },
      "source": [
        "## **_Distribution of Mission Status_**\n",
        "\n",
        "How many missions were successful?\n",
        "How many missions failed?\n"
      ]
    },
    {
      "cell_type": "code",
      "execution_count": null,
      "metadata": {
        "id": "83kY1alqmUhb"
      },
      "outputs": [],
      "source": [
        "mission_statuses = df_data.Mission_Status.value_counts()\n",
        "\n",
        "for i in range(len(mission_statuses)):\n",
        "    result = mission_statuses.index.tolist()[i]\n",
        "    num = mission_statuses.tolist()[i]\n",
        "    print(f\"{num} missions: {result}.\")"
      ]
    },
    {
      "cell_type": "markdown",
      "metadata": {},
      "source": [
        "---\n",
        "---\n"
      ]
    },
    {
      "cell_type": "markdown",
      "metadata": {
        "id": "jgTCihuoa-qH",
        "papermill": {
          "duration": 0.03854,
          "end_time": "2020-10-20T21:34:05.968626",
          "exception": false,
          "start_time": "2020-10-20T21:34:05.930086",
          "status": "completed"
        },
        "tags": []
      },
      "source": [
        "## **_How Expensive are the Launches?_**\n",
        "\n",
        "Create a histogram and visualise the distribution.\n",
        "\n",
        "The price column is given in USD millions (careful of missing values).\n"
      ]
    },
    {
      "cell_type": "code",
      "execution_count": null,
      "metadata": {
        "id": "PLOMhzZFnSCO"
      },
      "outputs": [],
      "source": [
        "price_nan_num = df_data.Price_US_Mil.isna().sum()\n",
        "price_valid_num = len(df_data.Price_US_Mil) - price_nan_num\n",
        "print(f\"`df_data` has {\n",
        "      price_valid_num}/{len(df_data.Price_US_Mil)} entries for Price.\")"
      ]
    },
    {
      "cell_type": "code",
      "execution_count": null,
      "metadata": {},
      "outputs": [],
      "source": [
        "price_series = df_data.Price_US_Mil.dropna()\n",
        "\n",
        "# Or try:\n",
        "# price_mask = pd.notna(df_data.Price)\n",
        "# price_series = df_data[price_mask]\n",
        "\n",
        "# price_series = df_data.loc[df_data.Price.notna(), 'Price']"
      ]
    },
    {
      "cell_type": "markdown",
      "metadata": {},
      "source": [
        "#### **_w/Plotly Express `histogram()`:_**\n"
      ]
    },
    {
      "cell_type": "code",
      "execution_count": null,
      "metadata": {},
      "outputs": [],
      "source": [
        "price_histogram = px.histogram(\n",
        "    x=price_series,\n",
        "    opacity=0.75,\n",
        "    marginal='box',\n",
        "    nbins=35,\n",
        "    barmode='overlay',\n",
        "    width=750,\n",
        "    height=500\n",
        ")\n",
        "\n",
        "price_histogram.update_layout(\n",
        "    title=\"Histogram: Distribution of Rocket Prices\",\n",
        "    xaxis_title=\"Price: $Millions US\",\n",
        "    yaxis_title=\"Count\",\n",
        "    coloraxis_showscale=False\n",
        ")\n",
        "\n",
        "price_histogram.show()"
      ]
    },
    {
      "cell_type": "markdown",
      "metadata": {},
      "source": [
        "#### **_w/Seaborn `histplot()`:_**\n"
      ]
    },
    {
      "cell_type": "code",
      "execution_count": null,
      "metadata": {},
      "outputs": [],
      "source": [
        "price_series_skew = np.round(price_series.skew(), 3)\n",
        "price_series_mean = np.round(price_series.mean(), 3)\n",
        "\n",
        "fig, ax = plt.subplots(figsize=(9, 7), dpi=120)\n",
        "\n",
        "sns.histplot(price_series,\n",
        "             kde=True,\n",
        "             color='darkorange',\n",
        "             legend=False,\n",
        "             #  stat='density',\n",
        "             ax=ax,\n",
        "             alpha=0.5,\n",
        "             bins=35)\n",
        "\n",
        "sns.set_theme(style='whitegrid')\n",
        "\n",
        "plt.title(f\"Price Series\\nskew: {price_series_skew}\\nmean: {price_series_mean}\")\n",
        "plt.xlabel(\"Price in Millions\", fontsize=12)\n",
        "plt.ylabel(\"Count\", fontsize=12)\n",
        "\n",
        "plt.legend(labels=['KDE', 'Histogram'])\n",
        "\n",
        "plt.show()"
      ]
    },
    {
      "cell_type": "markdown",
      "metadata": {},
      "source": [
        "Compare w/param `log_scale=True`:\n"
      ]
    },
    {
      "cell_type": "code",
      "execution_count": null,
      "metadata": {},
      "outputs": [],
      "source": [
        "price_series_skew = np.round(price_series.skew(), 3)\n",
        "price_series_mean = np.round(price_series.mean(), 3)\n",
        "\n",
        "fig, ax = plt.subplots(figsize=(9, 7), dpi=120)\n",
        "\n",
        "sns.histplot(price_series,\n",
        "             kde=True,\n",
        "             color='darkorange',\n",
        "             legend=False,\n",
        "             #  stat='density',\n",
        "             ax=ax,\n",
        "             alpha=0.5,\n",
        "             log_scale=True,\n",
        "             bins=35)\n",
        "\n",
        "sns.set_theme(style='whitegrid')\n",
        "\n",
        "plt.title(f\"Price Series (Logarithmic Scale)\\nskew: {price_series_skew}\\nmean: {price_series_mean}\")\n",
        "plt.xlabel(\"Price: $Millions US\", fontsize=12)\n",
        "plt.ylabel(\"Count\", fontsize=12)\n",
        "\n",
        "plt.legend(labels=['KDE', 'Histogram'])\n",
        "\n",
        "plt.show()"
      ]
    },
    {
      "cell_type": "markdown",
      "metadata": {},
      "source": [
        "---\n",
        "---\n"
      ]
    },
    {
      "cell_type": "markdown",
      "metadata": {
        "id": "QiNtigQDne3E"
      },
      "source": [
        "## **_Use a Choropleth Map to Show the Number of Launches by Country_**\n",
        "\n",
        "-   Create a choropleth map using [the plotly documentation](https://plotly.com/python/choropleth-maps/)\n",
        "\n",
        "-   Experiment with [plotly's available colours](https://plotly.com/python/builtin-colorscales/). I quite like the sequential colour `matter` on this map.\n",
        "\n",
        "-   You'll need to extract a `country` feature as well as change the country names that no longer exist.\n",
        "\n",
        "### **_Wrangle the Country Names_**\n",
        "\n",
        "You'll need to use a 3 letter country code for each country. You might have to change some country names.\n",
        "\n",
        "-   Russia is the Russian Federation\n",
        "\n",
        "-   New Mexico should be USA\n",
        "\n",
        "-   Yellow Sea refers to China\n",
        "\n",
        "-   Shahrud Missile Test Site should be Iran\n",
        "\n",
        "-   Pacific Missile Range Facility should be USA\n",
        "\n",
        "-   Barents Sea should be Russian Federation\n",
        "\n",
        "-   Gran Canaria should be USA\n",
        "\n",
        "You can use the iso3166 package to convert the country names to Alpha3 format.\n"
      ]
    },
    {
      "cell_type": "code",
      "execution_count": null,
      "metadata": {},
      "outputs": [],
      "source": [
        "# # Background work:\n",
        "# for i in countries:\n",
        "#     print(i.name)\n",
        "#     print(i.alpha2)\n",
        "#     print(i.alpha3)\n",
        "#     print(i.numeric)\n",
        "#     print(i.apolitical_name)\n",
        "#     print()"
      ]
    },
    {
      "cell_type": "markdown",
      "metadata": {},
      "source": [
        "Research indicates that **Sea Launch**, indicated in the `country_rename` dict as \"Pacific Ocean\", had majority ownership by Russian interests, so I'm using RUS for that agency.\n",
        "\n",
        "`country_rename` is a dict used to get country names that can then be converted succesfully in function `get_country_names` which references `iso3166.countries`.\n",
        "\n",
        "`get_country_names` also accesses `countries_iso3166_dict`, which is used to achieve the final step of getting the 3-letter codes.\n",
        "\n",
        "Create a list `country_names` while executing function `get_country_names` for clearer viewing of names when hovering over choropleth:\n"
      ]
    },
    {
      "cell_type": "code",
      "execution_count": null,
      "metadata": {},
      "outputs": [],
      "source": [
        "country_rename = {\n",
        "    \"Russia\": \"Russian Federation\",\n",
        "    \"New Mexico\": \"USA\",\n",
        "    \"Yellow Sea\": \"China\",\n",
        "    \"Shahrud Missile Test Site\": \"Iran, Islamic Republic of\",\n",
        "    \"Pacific Missile Range Facility\": \"USA\",\n",
        "    \"Pacific Ocean\": \"USA\",\n",
        "    \"Barents Sea\": \"Russian Federation\",\n",
        "    \"Gran Canaria\": \"USA\",\n",
        "    \"China Coastal Waters\": \"China\",\n",
        "    \"United Kingdom\": \"United Kingdom of Great Britain and Northern Ireland\",\n",
        "    \"North Korea\": \"Korea, Democratic People's Republic of\",\n",
        "    \"South Korea\": \"Korea, Republic of\",\n",
        "    \"Iran\": \"Iran, Islamic Republic of\",\n",
        "}\n",
        "\n",
        "countries_iso3166_dict = {}\n",
        "for c in countries:\n",
        "    countries_iso3166_dict[c.name] = c.alpha3\n",
        "    countries_iso3166_dict[c.alpha2] = c.alpha3\n",
        "    countries_iso3166_dict[c.alpha3] = c.alpha3\n",
        "    countries_iso3166_dict[c.numeric] = c.alpha3\n",
        "    countries_iso3166_dict[c.apolitical_name] = c.alpha3\n",
        "\n",
        "\n",
        "def get_country_codes(location):\n",
        "    country_name = location.split(\",\")[-1].strip()\n",
        "    country_name = country_rename.get(country_name, country_name)\n",
        "    countries_alpha3 = countries_iso3166_dict.get(country_name, None)\n",
        "    return countries_alpha3"
      ]
    },
    {
      "cell_type": "markdown",
      "metadata": {},
      "source": [
        "Create `series_country`, which will list country code for each launch in `df_data`:\n"
      ]
    },
    {
      "cell_type": "code",
      "execution_count": null,
      "metadata": {},
      "outputs": [],
      "source": [
        "series_country_codes = df_data.Location.apply(get_country_codes)"
      ]
    },
    {
      "cell_type": "code",
      "execution_count": null,
      "metadata": {
        "id": "Y46-4GHrozhF"
      },
      "outputs": [],
      "source": [
        "series_country_codes.unique()"
      ]
    },
    {
      "cell_type": "markdown",
      "metadata": {},
      "source": [
        "`country_value_counts` series allows us to see launch count for each country code:\n"
      ]
    },
    {
      "cell_type": "code",
      "execution_count": null,
      "metadata": {},
      "outputs": [],
      "source": [
        "country_launch_value_counts = series_country_codes.value_counts()"
      ]
    },
    {
      "cell_type": "markdown",
      "metadata": {},
      "source": [
        "Create lists to facilitate smooth creation of DataFrame for country codes/counts:\n"
      ]
    },
    {
      "cell_type": "code",
      "execution_count": null,
      "metadata": {},
      "outputs": [],
      "source": [
        "country_launch_counts = [i for i in country_launch_value_counts]\n",
        "country_codes = country_launch_value_counts.index"
      ]
    },
    {
      "cell_type": "markdown",
      "metadata": {},
      "source": [
        "Create list of country names to add to `data_country` so hovering on choropleth will say the country name, not just the code:\n"
      ]
    },
    {
      "cell_type": "code",
      "execution_count": null,
      "metadata": {},
      "outputs": [],
      "source": [
        "country_name_dict = {}\n",
        "\n",
        "for c in countries:\n",
        "    country_name_dict[c.alpha3] = c.name\n",
        "\n",
        "country_names = [country_name_dict[i] for i in country_codes]\n",
        "\n",
        "country_names"
      ]
    },
    {
      "cell_type": "code",
      "execution_count": null,
      "metadata": {},
      "outputs": [],
      "source": [
        "data_country = {\"ISO_Code\": country_codes,\n",
        "                \"Launches\": country_launch_counts,\n",
        "                \"Country\": country_names}\n",
        "\n",
        "df_country = pd.DataFrame(data=data_country)"
      ]
    },
    {
      "cell_type": "code",
      "execution_count": null,
      "metadata": {},
      "outputs": [],
      "source": [
        "df_country"
      ]
    },
    {
      "cell_type": "code",
      "execution_count": null,
      "metadata": {},
      "outputs": [],
      "source": [
        "color_scales = px.colors.named_colorscales()"
      ]
    },
    {
      "cell_type": "code",
      "execution_count": null,
      "metadata": {},
      "outputs": [],
      "source": [
        "from random import choice\n",
        "\n",
        "random_color = choice(color_scales)"
      ]
    },
    {
      "cell_type": "markdown",
      "metadata": {},
      "source": [
        "I experimented with `color_continuous_scale=random_color`.\n",
        "\n",
        "Ended up liking 'rainbow'.\n"
      ]
    },
    {
      "cell_type": "code",
      "execution_count": null,
      "metadata": {
        "id": "ESGRWiX6ozZG"
      },
      "outputs": [],
      "source": [
        "fig = px.choropleth(\n",
        "    df_country,\n",
        "    locations=\"ISO_Code\",\n",
        "    color=\"Launches\",\n",
        "    hover_name=\"Country\",\n",
        "    color_continuous_scale=\"rainbow\",\n",
        "    # width=1920,\n",
        "    # height=1080,\n",
        ")\n",
        "\n",
        "fig.update_layout(\n",
        "    title_text=\"Rocket Launches by Country (Choropleth Map)\",\n",
        "    title_font_size=20,\n",
        "    title_font_family=\"Courier New\",\n",
        "    title_xref=\"paper\",\n",
        ")\n",
        "\n",
        "fig.show()"
      ]
    },
    {
      "cell_type": "markdown",
      "metadata": {},
      "source": [
        "---\n",
        "---\n"
      ]
    },
    {
      "cell_type": "markdown",
      "metadata": {
        "id": "F3pwYSUlo_AK"
      },
      "source": [
        "## **_Use a Choropleth Map to Show the Number of Failures by Country_**\n"
      ]
    },
    {
      "cell_type": "markdown",
      "metadata": {},
      "source": [
        "Add a country code column to original DF for ease of reference:\n"
      ]
    },
    {
      "cell_type": "code",
      "execution_count": null,
      "metadata": {
        "id": "8BH4ICtro9I0"
      },
      "outputs": [],
      "source": [
        "df_data.insert(2, \"ISO_Code\", series_country_codes)"
      ]
    },
    {
      "cell_type": "code",
      "execution_count": null,
      "metadata": {},
      "outputs": [],
      "source": [
        "df_data.sample()"
      ]
    },
    {
      "cell_type": "markdown",
      "metadata": {},
      "source": [
        "Also add a country name column to original DF for ease of reference:\n"
      ]
    },
    {
      "cell_type": "code",
      "execution_count": null,
      "metadata": {},
      "outputs": [],
      "source": [
        "def get_country_names(iso_code):\n",
        "    country_name = country_name_dict.get(iso_code)\n",
        "    return country_name\n",
        "\n",
        "\n",
        "series_country_names = df_data.ISO_Code.apply(get_country_names)"
      ]
    },
    {
      "cell_type": "code",
      "execution_count": null,
      "metadata": {},
      "outputs": [],
      "source": [
        "df_data.insert(2, \"Country_Name\", series_country_names)"
      ]
    },
    {
      "cell_type": "code",
      "execution_count": null,
      "metadata": {},
      "outputs": [],
      "source": [
        "df_data.sample()"
      ]
    },
    {
      "cell_type": "markdown",
      "metadata": {},
      "source": [
        "See what status there are:\n"
      ]
    },
    {
      "cell_type": "code",
      "execution_count": null,
      "metadata": {},
      "outputs": [],
      "source": [
        "series_mission_status = df_data[\"Mission_Status\"].value_counts()\n",
        "series_mission_status"
      ]
    },
    {
      "cell_type": "markdown",
      "metadata": {},
      "source": [
        "Consider a df for each status to map each case:\n"
      ]
    },
    {
      "cell_type": "code",
      "execution_count": null,
      "metadata": {},
      "outputs": [],
      "source": [
        "df_failure = df_data.loc[df_data[\"Mission_Status\"] == \"Failure\"]\n",
        "\n",
        "# df_success = df_data.loc[df_data[\"Mission_Status\"] == \"Success\"]\n",
        "# df_partial_failure = df_data.loc[df_data[\"Mission_Status\"] == \"Partial_Failure\"]\n",
        "# df_suborbital = df_data.loc[df_data[\"Mission_Status\"] == \"Suborbital\"]\n",
        "# df_prelaunch_failure = df_data.loc[df_data[\"Mission_Status\"] == \"Prelaunch Failure\"]"
      ]
    },
    {
      "cell_type": "code",
      "execution_count": null,
      "metadata": {},
      "outputs": [],
      "source": [
        "df_by_failure = df_failure.groupby([\"ISO_Code\"])[\"Mission_Status\"].count(\n",
        ").reset_index(name=\"Count\").sort_values([\"Count\"])"
      ]
    },
    {
      "cell_type": "markdown",
      "metadata": {},
      "source": [
        "Add column w/Country Names for clarity when hovering:\n"
      ]
    },
    {
      "cell_type": "code",
      "execution_count": null,
      "metadata": {},
      "outputs": [],
      "source": [
        "df_by_failure_country_names = df_by_failure.ISO_Code.apply(get_country_names)"
      ]
    },
    {
      "cell_type": "code",
      "execution_count": null,
      "metadata": {},
      "outputs": [],
      "source": [
        "df_by_failure.insert(1, \"Country_Name\", df_by_failure_country_names)"
      ]
    },
    {
      "cell_type": "markdown",
      "metadata": {},
      "source": [
        "### **_Choropleth Mapping Launch Failures:_**\n"
      ]
    },
    {
      "cell_type": "code",
      "execution_count": null,
      "metadata": {
        "id": "sfw-q7Obo9GM"
      },
      "outputs": [],
      "source": [
        "random_color = choice(color_scales)\n",
        "\n",
        "fig = px.choropleth(\n",
        "    df_by_failure,\n",
        "    locations=\"ISO_Code\",\n",
        "    color=\"Count\",\n",
        "    hover_name=\"Country_Name\",\n",
        "    color_continuous_scale=\"rainbow\",\n",
        ")\n",
        "\n",
        "fig.update_layout(\n",
        "    title_text=f\"Mission Failures Choropleth ({random_color})\",\n",
        "    title_font_size=20,\n",
        "    title_font_family=\"Courier New\",\n",
        "    title_xref=\"paper\",\n",
        ")\n",
        "\n",
        "fig.show()"
      ]
    },
    {
      "cell_type": "markdown",
      "metadata": {},
      "source": [
        "---\n",
        "---\n"
      ]
    },
    {
      "cell_type": "markdown",
      "metadata": {
        "id": "9LqcqSrKa-qN",
        "papermill": {
          "duration": 0.039343,
          "end_time": "2020-10-20T21:34:06.591694",
          "exception": false,
          "start_time": "2020-10-20T21:34:06.552351",
          "status": "completed"
        },
        "tags": []
      },
      "source": [
        "## **_Create a Plotly Sunburst Chart of the countries, organisations, and mission status._**\n"
      ]
    },
    {
      "cell_type": "markdown",
      "metadata": {},
      "source": [
        "---\n"
      ]
    },
    {
      "cell_type": "markdown",
      "metadata": {},
      "source": [
        "#### **_Background on `groupby()` and `px.sunburst()`:_**\n"
      ]
    },
    {
      "cell_type": "code",
      "execution_count": null,
      "metadata": {},
      "outputs": [],
      "source": [
        "df_doc_animals = pd.DataFrame({\n",
        "    'Species': ['Primate', 'Primate', 'Bird', 'Bird', 'Bird', 'Bird'],\n",
        "    'Animal': ['Gorilla', 'Human', 'Falcon', 'Falcon', 'Parrot', 'Parrot'],\n",
        "    'Max Speed': [25., 17., 380., 370., 24., 24.],\n",
        "    'Names': ['Golliver', 'Bruna', 'Filbo', 'Jed', 'Filba', 'Ruina'],\n",
        "})\n",
        "\n",
        "df_doc_animals"
      ]
    },
    {
      "cell_type": "code",
      "execution_count": null,
      "metadata": {},
      "outputs": [],
      "source": [
        "df_doc_animals = df_doc_animals.groupby(['Animal', 'Max Speed'])\n",
        "\n",
        "df_doc_animals"
      ]
    },
    {
      "cell_type": "code",
      "execution_count": null,
      "metadata": {},
      "outputs": [],
      "source": [
        "df_doc_animals = df_doc_animals.size()\n",
        "\n",
        "df_doc_animals"
      ]
    },
    {
      "cell_type": "code",
      "execution_count": null,
      "metadata": {},
      "outputs": [],
      "source": [
        "df_doc_animals = df_doc_animals.reset_index(name='count')\n",
        "\n",
        "df_doc_animals"
      ]
    },
    {
      "cell_type": "code",
      "execution_count": null,
      "metadata": {},
      "outputs": [],
      "source": [
        "burst_animals = px.sunburst(df_doc_animals,\n",
        "                            path=[\"Animal\",\n",
        "                                  \"Max Speed\"],\n",
        "                            values=\"count\",\n",
        "                            title=\"Animals Sunburst: Animal -> Max Speed\")\n",
        "\n",
        "burst_animals.update_layout(xaxis_title=\"Animal\",\n",
        "                            yaxis_title=\"Max Speed\",\n",
        "                            coloraxis_showscale=False,\n",
        "                            width=450,\n",
        "                            height=450)\n",
        "\n",
        "burst_animals.show()"
      ]
    },
    {
      "cell_type": "markdown",
      "metadata": {},
      "source": [
        "### **_The Task:_**\n"
      ]
    },
    {
      "cell_type": "markdown",
      "metadata": {},
      "source": [
        "Break the process into steps:\n",
        "\n",
        "<font size=1>\n",
        "\n",
        "```python\n",
        "# Group DF \"Country_Name\"/\"Organisation\"/\"Mission_Status\":\n",
        "country_org_status = df_data.groupby(by=[\"Country_Name\",\n",
        "                                         \"Organisation\",\n",
        "                                         \"Mission_Status\"])\n",
        "\n",
        "# Calculate the size of each group/the count of occurrences for each unique combination\n",
        "#  and assign as a Series:\n",
        "country_org_status = country_org_status.size()\n",
        "\n",
        "# Reset index of the resulting Series/rename the count column to 'count' &\n",
        "#  rebuild the DF:\n",
        "country_org_status = country_org_status.reset_index(name='count')\n",
        "```\n",
        "\n",
        "</font>\n"
      ]
    },
    {
      "cell_type": "code",
      "execution_count": null,
      "metadata": {},
      "outputs": [],
      "source": [
        "country_org_status = df_data.groupby(by=[\"Country_Name\",\n",
        "                                         \"Organisation\",\n",
        "                                         \"Mission_Status\"]).size().reset_index(name='count')"
      ]
    },
    {
      "cell_type": "code",
      "execution_count": null,
      "metadata": {},
      "outputs": [],
      "source": [
        "burst = px.sunburst(country_org_status,\n",
        "                    path=[\"Country_Name\",\n",
        "                          \"Organisation\",\n",
        "                          \"Mission_Status\"],\n",
        "                    values=\"count\",\n",
        "                    title=\"Space Launches Sunburst: Countries/Agencies/Mission Status\")\n",
        "\n",
        "burst.update_layout(xaxis_title=\"Mission Status\",\n",
        "                    yaxis_title=\"Organisation\",\n",
        "                    coloraxis_showscale=False,\n",
        "                    width=750,\n",
        "                    height=750)\n",
        "\n",
        "burst.show()"
      ]
    },
    {
      "cell_type": "markdown",
      "metadata": {},
      "source": [
        "---\n",
        "---\n"
      ]
    },
    {
      "cell_type": "markdown",
      "metadata": {
        "id": "70pG1BCZa-qY",
        "papermill": {
          "duration": 0.062712,
          "end_time": "2020-10-20T21:34:07.951200",
          "exception": false,
          "start_time": "2020-10-20T21:34:07.888488",
          "status": "completed"
        },
        "tags": []
      },
      "source": [
        "## **_Analyse the Total Amount of Money Spent by Organisations on Space Missions_**\n"
      ]
    },
    {
      "cell_type": "code",
      "execution_count": null,
      "metadata": {},
      "outputs": [],
      "source": [
        "df_org_price = df_data.filter([\"Organisation\", \"Price_US_Mil\"], axis=1)"
      ]
    },
    {
      "cell_type": "code",
      "execution_count": null,
      "metadata": {},
      "outputs": [],
      "source": [
        "len(df_org_price)"
      ]
    },
    {
      "cell_type": "markdown",
      "metadata": {},
      "source": [
        "Remove entries/rows without entries in Price column:\n"
      ]
    },
    {
      "cell_type": "code",
      "execution_count": null,
      "metadata": {},
      "outputs": [],
      "source": [
        "df_org_price = df_org_price[df_org_price[\"Price_US_Mil\"].notna()]"
      ]
    },
    {
      "cell_type": "code",
      "execution_count": null,
      "metadata": {},
      "outputs": [],
      "source": [
        "df_org_price"
      ]
    },
    {
      "cell_type": "code",
      "execution_count": null,
      "metadata": {},
      "outputs": [],
      "source": [
        "df_org_price.describe()"
      ]
    },
    {
      "cell_type": "code",
      "execution_count": null,
      "metadata": {},
      "outputs": [],
      "source": [
        "len(df_org_price)"
      ]
    },
    {
      "cell_type": "code",
      "execution_count": null,
      "metadata": {
        "id": "86OMPfpEpO7R"
      },
      "outputs": [],
      "source": [
        "df_org_spending = df_org_price.groupby([\"Organisation\"])[\"Price_US_Mil\"].sum()\n",
        "df_org_spending = df_org_spending.reset_index(name=\"Spending_US_Mil\")"
      ]
    },
    {
      "cell_type": "code",
      "execution_count": null,
      "metadata": {},
      "outputs": [],
      "source": [
        "bar_colors = choices(css_colors, k=len(df_org_spending))"
      ]
    },
    {
      "cell_type": "markdown",
      "metadata": {},
      "source": [
        "Plot `df_org_spending`:\n"
      ]
    },
    {
      "cell_type": "code",
      "execution_count": null,
      "metadata": {},
      "outputs": [],
      "source": [
        "fig, ax = plt.subplots(figsize=(20, 30), dpi=120)\n",
        "\n",
        "ax.bar(df_org_spending['Organisation'],\n",
        "       df_org_spending['Spending_US_Mil'],\n",
        "       label=df_org_spending['Organisation'],\n",
        "       color=bar_colors)\n",
        "\n",
        "ax.set_title(\"Space Agencies Total Spending: $Millions US\", fontsize=24)\n",
        "ax.set_xlabel('Space Agency', fontsize=18)\n",
        "ax.set_ylabel('Space Missions: $Millions US', fontsize=18)\n",
        "ax.legend(title=\"Agencies\")\n",
        "\n",
        "ax.legend(ncol=5)\n",
        "plt.xticks(rotation=90)\n",
        "plt.show()"
      ]
    },
    {
      "cell_type": "markdown",
      "metadata": {},
      "source": [
        "We need to break `df_org_spending` into chunks, since the range of values makes it hard to see the data clearly in the plot...\n"
      ]
    },
    {
      "cell_type": "markdown",
      "metadata": {},
      "source": [
        "Create four subplots:\n"
      ]
    },
    {
      "cell_type": "code",
      "execution_count": null,
      "metadata": {},
      "outputs": [],
      "source": [
        "color_list = ['black', 'blue', 'brown', 'chocolate', 'cornflowerblue', 'crimson',\n",
        "              'darkblue', 'darkcyan', 'darkgoldenrod', 'darkgreen', 'darkkhaki',\n",
        "              'darkmagenta', 'darkolivegreen', 'darkorange', 'darkorchid', 'darkred',\n",
        "              'darksalmon', 'darkseagreen', 'darkslateblue', 'darkslategray',\n",
        "              'darkslategrey', 'darkturquoise', 'darkviolet', 'deeppink', 'dimgray',\n",
        "              'dodgerblue', 'firebrick', 'forestgreen', 'goldenrod', 'green', \n",
        "              'greenyellow', 'indigo', 'lightgreen', 'limegreen', 'maroon', 'mediumblue', \n",
        "              'mediumseagreen', 'mediumslateblue', 'mediumspringgreen', 'midnightblue', \n",
        "              'navy', 'olive', 'olivedrab', 'palegreen', 'peru', 'purple',\n",
        "              'rebeccapurple', 'rosybrown', 'royalblue', 'saddlebrown', 'sandybrown', \n",
        "              'seagreen', 'sienna', 'slateblue', 'springgreen', 'steelblue', 'yellowgreen']"
      ]
    },
    {
      "cell_type": "code",
      "execution_count": null,
      "metadata": {},
      "outputs": [],
      "source": [
        "df_org_spending_01 = df_org_spending[df_org_spending[\"Spending_US_Mil\"] >= 7500]\n",
        "\n",
        "df_org_spending_02 = df_org_spending[(df_org_spending[\"Spending_US_Mil\"] < 7500) & (\n",
        "    df_org_spending[\"Spending_US_Mil\"] >= 1250)]\n",
        "\n",
        "df_org_spending_03 = df_org_spending[(df_org_spending[\"Spending_US_Mil\"] < 1250) & (\n",
        "    df_org_spending[\"Spending_US_Mil\"] >= 200)]\n",
        "\n",
        "df_org_spending_04 = df_org_spending[(df_org_spending[\"Spending_US_Mil\"] < 200) & (\n",
        "    df_org_spending[\"Spending_US_Mil\"] >= 20)]\n",
        "\n",
        "df_org_spending_05 = df_org_spending[df_org_spending[\"Spending_US_Mil\"] < 20]"
      ]
    },
    {
      "cell_type": "code",
      "execution_count": null,
      "metadata": {},
      "outputs": [],
      "source": [
        "spending_ranges = [(df_org_spending_01, \"High Spending\"),\n",
        "                   (df_org_spending_02, \"Medium-High Spending\"),\n",
        "                   (df_org_spending_03, \"Medium Spending\"),\n",
        "                   (df_org_spending_04, \"Medium-Low Spending\"),\n",
        "                   (df_org_spending_05, \"Low Spending\")]"
      ]
    },
    {
      "cell_type": "code",
      "execution_count": null,
      "metadata": {},
      "outputs": [],
      "source": [
        "fig, axes = plt.subplots(nrows=len(spending_ranges), figsize=(29, 23))\n",
        "\n",
        "for (df, title), ax in zip(spending_ranges, axes):\n",
        "    ax.bar(df[\"Organisation\"],\n",
        "           df[\"Spending_US_Mil\"],\n",
        "           color=choices(color_list, k=len(df)))\n",
        "    ax.set_title(title)\n",
        "\n",
        "plt.subplots_adjust(\n",
        "    bottom=0.1,\n",
        "    top=0.9,\n",
        "    hspace=0.5,\n",
        ")\n",
        "\n",
        "plt.suptitle(t=\"Space Agency Spending on Rocket Launches 1957-2024\\n1 Unit: $1,000,000 (US)\",\n",
        "             size=24, weight=\"bold\", color=\"k\")\n",
        "\n",
        "plt.rcParams.update({\n",
        "    \"grid.color\": \"gainsboro\",\n",
        "    \"axes.facecolor\": \"mintcream\",\n",
        "})\n",
        "\n",
        "plt.show()"
      ]
    },
    {
      "cell_type": "markdown",
      "metadata": {},
      "source": [
        "---\n",
        "---\n"
      ]
    },
    {
      "cell_type": "markdown",
      "metadata": {
        "id": "DpsWkPxzpPXs"
      },
      "source": [
        "## **_Analyse the Amount of Money Spent by Organisation per Launch_**\n"
      ]
    },
    {
      "cell_type": "markdown",
      "metadata": {},
      "source": [
        "Now, reference the earlier `df_org_price` in creating a DataFrame with the average spending per launch:\n"
      ]
    },
    {
      "cell_type": "markdown",
      "metadata": {},
      "source": [
        "Before, we got the total spending this w/`groupby().sum()`.\n",
        "\n",
        "<font size=1>\n",
        "\n",
        "```python\n",
        "df_org_price = df_data.filter([\"Organisation\", \"Price\"], axis=1)\n",
        "df_org_price = df_org_price[df_org_price[\"Price\"].notna()]\n",
        "\n",
        "df_org_spending = df_org_price.groupby([\"Organisation\"])[\"Price\"].sum()\n",
        "df_org_spending = df_org_spending.reset_index(name=\"Spending\")\n",
        "```\n",
        "\n",
        "</font>\n",
        "\n",
        "We'll try a different approach for getting the average...\n"
      ]
    },
    {
      "cell_type": "code",
      "execution_count": null,
      "metadata": {},
      "outputs": [],
      "source": [
        "df_org_spending_mean = df_org_price.groupby(\n",
        "    [\"Organisation\"])[\"Price_US_Mil\"].mean()\n",
        "\n",
        "df_org_spending_mean = df_org_spending_mean.reset_index(\n",
        "    name=\"Average_Spending\")"
      ]
    },
    {
      "cell_type": "code",
      "execution_count": null,
      "metadata": {},
      "outputs": [],
      "source": [
        "df_org_spending_mean.describe()"
      ]
    },
    {
      "cell_type": "markdown",
      "metadata": {},
      "source": [
        "Instead of breaking `df_org_spending` into chunks by value, we'll simply divide it up evenly into 7 parts (5 wasn't enough for previous plot):\n"
      ]
    },
    {
      "cell_type": "markdown",
      "metadata": {},
      "source": [
        "First, sort the DataFrame by value high to low...\n"
      ]
    },
    {
      "cell_type": "code",
      "execution_count": null,
      "metadata": {},
      "outputs": [],
      "source": [
        "df_org_spending_mean.sort_values(\n",
        "    by='Average_Spending', inplace=True, ascending=False)"
      ]
    },
    {
      "cell_type": "code",
      "execution_count": null,
      "metadata": {},
      "outputs": [],
      "source": [
        "df_org_spending_mean"
      ]
    },
    {
      "cell_type": "code",
      "execution_count": null,
      "metadata": {},
      "outputs": [],
      "source": [
        "mean_01 = df_org_spending_mean[df_org_spending_mean[\"Average_Spending\"] >= 180]\n",
        "\n",
        "mean_02 = df_org_spending_mean[(df_org_spending_mean[\"Average_Spending\"] < 180) & (\n",
        "    df_org_spending_mean[\"Average_Spending\"] >= 60)]\n",
        "\n",
        "mean_03 = df_org_spending_mean[(df_org_spending_mean[\"Average_Spending\"] < 60) & (\n",
        "    df_org_spending_mean[\"Average_Spending\"] >= 36)]\n",
        "\n",
        "mean_04 = df_org_spending_mean[(df_org_spending_mean[\"Average_Spending\"] < 36) & (\n",
        "    df_org_spending_mean[\"Average_Spending\"] >= 13)]\n",
        "\n",
        "mean_05 = df_org_spending_mean[df_org_spending_mean[\"Average_Spending\"] < 13]"
      ]
    },
    {
      "cell_type": "markdown",
      "metadata": {},
      "source": [
        "Now create a plot similar to the previous:\n"
      ]
    },
    {
      "cell_type": "code",
      "execution_count": null,
      "metadata": {},
      "outputs": [],
      "source": [
        "average_ranges = [(mean_01, \"Most Average Spending\"),\n",
        "                  (mean_02, \"2nd Most Average Spending\"),\n",
        "                  (mean_03, \"Median Average Spending\"),\n",
        "                  (mean_04, \"2nd Least Average Spending\"),\n",
        "                  (mean_05, \"Least Average Spending\")]"
      ]
    },
    {
      "cell_type": "code",
      "execution_count": null,
      "metadata": {},
      "outputs": [],
      "source": [
        "fig, axes = plt.subplots(nrows=len(spending_ranges), figsize=(29, 23))\n",
        "\n",
        "for (df, title), ax in zip(average_ranges, axes):\n",
        "    ax.bar(df['Organisation'],\n",
        "           df['Average_Spending'],\n",
        "           color=choices(color_list, k=len(df)))\n",
        "    ax.set_title(title, size=24, weight='bold')\n",
        "\n",
        "plt.subplots_adjust(\n",
        "    bottom=0.1,\n",
        "    top=0.9,\n",
        "    hspace=0.5,\n",
        ")\n",
        "\n",
        "plt.suptitle(t=\"Space Agency Averyage Spending on Rocket Launches 1957-2024\\n1 Unit: $1,000,000 (US)\",\n",
        "             size=36, weight='bold')\n",
        "\n",
        "plt.rcParams.update({\n",
        "    'grid.color': 'gainsboro',\n",
        "    'axes.facecolor': 'mintcream',\n",
        "})\n",
        "\n",
        "plt.show()"
      ]
    },
    {
      "cell_type": "markdown",
      "metadata": {},
      "source": [
        "---\n",
        "---\n"
      ]
    },
    {
      "cell_type": "markdown",
      "metadata": {
        "id": "yRa1BbPoa-qf",
        "papermill": {
          "duration": 0.042662,
          "end_time": "2020-10-20T21:34:09.943196",
          "exception": false,
          "start_time": "2020-10-20T21:34:09.900534",
          "status": "completed"
        },
        "tags": []
      },
      "source": [
        "## **_Chart the Number of Launches per Year_**\n"
      ]
    },
    {
      "cell_type": "markdown",
      "metadata": {},
      "source": [
        "Add 'Year' column.\n"
      ]
    },
    {
      "cell_type": "code",
      "execution_count": null,
      "metadata": {},
      "outputs": [],
      "source": [
        "df_data[\"Year\"] = df_data[\"Date\"].dt.year"
      ]
    },
    {
      "cell_type": "code",
      "execution_count": null,
      "metadata": {},
      "outputs": [],
      "source": [
        "df_data.sample()"
      ]
    },
    {
      "cell_type": "markdown",
      "metadata": {},
      "source": [
        "Re-order columns so date info is together:\n"
      ]
    },
    {
      "cell_type": "code",
      "execution_count": null,
      "metadata": {},
      "outputs": [],
      "source": [
        "df_data.columns"
      ]
    },
    {
      "cell_type": "code",
      "execution_count": null,
      "metadata": {},
      "outputs": [],
      "source": [
        "df_data = df_data[['Organisation',\n",
        "                   'Location',\n",
        "                   'Country_Name',\n",
        "                   'ISO_Code',\n",
        "                   'Date',\n",
        "                   'Year',\n",
        "                   'Detail',\n",
        "                   'Rocket_Status',\n",
        "                   'Price_US_Mil',\n",
        "                   'Mission_Status']]"
      ]
    },
    {
      "cell_type": "markdown",
      "metadata": {},
      "source": [
        "Verify addition of new columns:\n"
      ]
    },
    {
      "cell_type": "code",
      "execution_count": null,
      "metadata": {},
      "outputs": [],
      "source": [
        "df_data.head()"
      ]
    },
    {
      "cell_type": "markdown",
      "metadata": {},
      "source": [
        "Create DF which adds and groups years:\n"
      ]
    },
    {
      "cell_type": "code",
      "execution_count": null,
      "metadata": {},
      "outputs": [],
      "source": [
        "df_year = df_data.groupby('Year').size().reset_index(name='Count')"
      ]
    },
    {
      "cell_type": "markdown",
      "metadata": {},
      "source": [
        "Plot by year:\n"
      ]
    },
    {
      "cell_type": "code",
      "execution_count": null,
      "metadata": {},
      "outputs": [],
      "source": [
        "df_year_min = df_year.Year.min()\n",
        "df_year_max = df_year.Year.max()"
      ]
    },
    {
      "cell_type": "code",
      "execution_count": null,
      "metadata": {},
      "outputs": [],
      "source": [
        "x_ticks = [i for i in range(df_year_min, df_year_max + 1, 5)]"
      ]
    },
    {
      "cell_type": "code",
      "execution_count": null,
      "metadata": {},
      "outputs": [],
      "source": [
        "# Remove last year since it's not a complete year's data:\n",
        "df_year_not_last = df_year.drop(df_year.index[-1])\n",
        "\n",
        "fig, ax = plt.subplots(figsize=(23, 17))\n",
        "\n",
        "x_data = df_year_not_last[\"Year\"]\n",
        "y_data = df_year_not_last[\"Count\"]\n",
        "\n",
        "# Make bars go snug against x-boundaries:\n",
        "x_min_limit = df_year_not_last[\"Year\"].min() - .5\n",
        "x_max_limit = df_year_not_last[\"Year\"].max() + .5\n",
        "\n",
        "cmap = plt.get_cmap('cividis')\n",
        "normalize = plt.Normalize(vmin=x_min_limit, vmax=x_max_limit)\n",
        "colors = [cmap(normalize(value)) for value in x_data]\n",
        "\n",
        "ax.bar(x_data,\n",
        "       y_data,\n",
        "       width=.75,\n",
        "       color=colors,\n",
        "       edgecolor='lemonchiffon',\n",
        "       linewidth=2)\n",
        "\n",
        "\n",
        "ax.set_xlim([x_min_limit, x_max_limit])\n",
        "\n",
        "x_min = df_year_not_last[\"Year\"].min()\n",
        "x_max = df_year_not_last[\"Year\"].max()\n",
        "x_ticks = [i for i in range(x_min, x_max + 1)]\n",
        "ax.xaxis.set_ticks(x_ticks)\n",
        "\n",
        "y_ticks = [i for i in range(0, 250, 10)]\n",
        "ax.yaxis.set_ticks(y_ticks)\n",
        "\n",
        "ax.set_xlabel(\"Year\", size=24, weight='bold')\n",
        "ax.set_ylabel(\"Number of Launches\", size=24, weight='bold')\n",
        "\n",
        "plt.xticks(rotation=90)\n",
        "plt.title(f\"All Rocket Launches per Year, 1957-2023\", size=32, weight='bold')\n",
        "\n",
        "plt.show()"
      ]
    },
    {
      "cell_type": "markdown",
      "metadata": {
        "id": "NomJVLi3tIaM"
      },
      "source": [
        "## **_Chart the Number of Launches Month-on-Month until the Present_**\n",
        "\n",
        "Which month has seen the highest number of launches in all time? Superimpose a rolling average on the month on month time series chart.\n"
      ]
    },
    {
      "cell_type": "markdown",
      "metadata": {},
      "source": [
        "Create column based on months:\n"
      ]
    },
    {
      "cell_type": "code",
      "execution_count": null,
      "metadata": {},
      "outputs": [],
      "source": [
        "month_year = df_data['Date'].dt.strftime('%Y-%m')\n",
        "\n",
        "df_data.insert(6, 'Month', month_year)"
      ]
    },
    {
      "cell_type": "markdown",
      "metadata": {},
      "source": [
        "Add a column which counts number of launches for each month:\n"
      ]
    },
    {
      "cell_type": "code",
      "execution_count": null,
      "metadata": {},
      "outputs": [],
      "source": [
        "month_count = df_data.groupby('Month')['Month'].transform('count')\n",
        "df_data.insert(7, 'Month_Count', month_count)"
      ]
    },
    {
      "cell_type": "markdown",
      "metadata": {},
      "source": [
        "Ensure conversion to DT objects and set timezone to UTC:\n"
      ]
    },
    {
      "cell_type": "code",
      "execution_count": null,
      "metadata": {},
      "outputs": [],
      "source": [
        "df_data['Month'] = pd.to_datetime(\n",
        "    df_data['Month'] + '-01').dt.tz_localize('UTC')"
      ]
    },
    {
      "cell_type": "markdown",
      "metadata": {},
      "source": [
        "Imports:\n"
      ]
    },
    {
      "cell_type": "code",
      "execution_count": null,
      "metadata": {},
      "outputs": [],
      "source": [
        "# Register converters to avoid warnings:\n",
        "from pandas.plotting import register_matplotlib_converters\n",
        "\n",
        "register_matplotlib_converters()"
      ]
    },
    {
      "cell_type": "code",
      "execution_count": null,
      "metadata": {},
      "outputs": [],
      "source": [
        "import matplotlib.dates as mdates\n",
        "\n",
        "years = mdates.YearLocator(base=5)\n",
        "months = mdates.MonthLocator()\n",
        "years_fmt = mdates.DateFormatter('%Y')"
      ]
    },
    {
      "cell_type": "code",
      "execution_count": null,
      "metadata": {},
      "outputs": [],
      "source": [
        "fig, ax = plt.subplots(figsize=(11, 7), dpi=120)\n",
        "\n",
        "ax.set_title(\"Number of Launches by Month 1957-Present:\\nMonth to Month and Rolling Average\",\n",
        "             fontsize=18, weight='bold')\n",
        "\n",
        "ax.tick_params(axis='both', labelsize=10)\n",
        "\n",
        "ax.set_xlabel('Month', fontsize=14, weight='bold')\n",
        "ax.set_ylabel('Number of Launches', fontsize=14, weight='bold')\n",
        "\n",
        "plt.xticks(fontsize=14, rotation=45)\n",
        "plt.yticks(fontsize=14)\n",
        "\n",
        "ax.xaxis.set_major_locator(years)\n",
        "ax.xaxis.set_major_formatter(years_fmt)\n",
        "ax.xaxis.set_minor_locator(months)\n",
        "\n",
        "ax.set_xlim([df_data.Date.min(), df_data.Date.max()])\n",
        "ax.set_ylim([0, 40])\n",
        "\n",
        "ax.grid(color='gainsboro', linestyle='--')\n",
        "\n",
        "ax.fill_between(\n",
        "    df_data.Month,\n",
        "    df_data.Month_Count,\n",
        "    label=\"Launches per Month\",\n",
        "    color='darkorange',\n",
        "    alpha=.45,\n",
        ")\n",
        "\n",
        "# Get rolling average over 12 months:\n",
        "rolling_window = 60\n",
        "rolling_window_year = round(rolling_window / 12, 2)\n",
        "month_rolling = df_data['Month_Count'].rolling(window=rolling_window).mean()\n",
        "\n",
        "ax.plot(\n",
        "    df_data.Month,\n",
        "    month_rolling,\n",
        "    label=f\"{rolling_window_year} Year Rolling Average\",\n",
        "    color='navy',\n",
        "    alpha=0.5,\n",
        ")\n",
        "\n",
        "plt.grid('off')\n",
        "plt.legend()\n",
        "plt.show()"
      ]
    },
    {
      "cell_type": "markdown",
      "metadata": {},
      "source": [
        "---\n",
        "---\n"
      ]
    },
    {
      "cell_type": "markdown",
      "metadata": {
        "id": "t-avMIZoa-qh",
        "papermill": {
          "duration": 0.044409,
          "end_time": "2020-10-20T21:34:10.162592",
          "exception": false,
          "start_time": "2020-10-20T21:34:10.118183",
          "status": "completed"
        },
        "tags": []
      },
      "source": [
        "## **_Launches per Month: Which months are most popular and least popular for launches?_**\n",
        "\n",
        "Some months have better weather than others. Which time of year seems to be best for space missions?\n"
      ]
    },
    {
      "cell_type": "code",
      "execution_count": null,
      "metadata": {},
      "outputs": [],
      "source": [
        "df_month = df_data.groupby('Month').size().reset_index(name='Count')"
      ]
    },
    {
      "cell_type": "markdown",
      "metadata": {},
      "source": [
        "Rename 'Month' to differentiate from what we're about to create:\n"
      ]
    },
    {
      "cell_type": "code",
      "execution_count": null,
      "metadata": {
        "id": "zmtp5uBHppFG"
      },
      "outputs": [],
      "source": [
        "df_data.rename(columns={'Month': 'Month_DT_01'}, inplace=True)"
      ]
    },
    {
      "cell_type": "markdown",
      "metadata": {},
      "source": [
        "Create column with only Month names:\n"
      ]
    },
    {
      "cell_type": "code",
      "execution_count": null,
      "metadata": {
        "id": "fnk2m_cpppJo"
      },
      "outputs": [],
      "source": [
        "month_name = df_data['Date'].dt.strftime('%B')\n",
        "\n",
        "df_data.insert(7, 'Month_Name', month_name)"
      ]
    },
    {
      "cell_type": "code",
      "execution_count": null,
      "metadata": {},
      "outputs": [],
      "source": [
        "df_month_name = df_data.groupby('Month_Name').size().reset_index(name='Count')"
      ]
    },
    {
      "cell_type": "code",
      "execution_count": null,
      "metadata": {},
      "outputs": [],
      "source": [
        "df_month_name"
      ]
    },
    {
      "cell_type": "markdown",
      "metadata": {},
      "source": [
        "Plot the data:\n"
      ]
    },
    {
      "cell_type": "code",
      "execution_count": null,
      "metadata": {},
      "outputs": [],
      "source": [
        "# Define variables:\n",
        "month_names = df_month_name.Month_Name\n",
        "month_counts = df_month_name.Count"
      ]
    },
    {
      "cell_type": "code",
      "execution_count": null,
      "metadata": {},
      "outputs": [],
      "source": [
        "from matplotlib import colormaps\n",
        "\n",
        "seaborn_palettes = ['deep', 'muted', 'pastel', 'bright', 'dark', 'colorblind']\n",
        "\n",
        "all_palettes = list(colormaps) + seaborn_palettes"
      ]
    },
    {
      "cell_type": "code",
      "execution_count": null,
      "metadata": {},
      "outputs": [],
      "source": [
        "# Initialize MatPlotLib figure\n",
        "fig, ax = plt.subplots(figsize=(13, 7))\n",
        "\n",
        "# palette = choice(all_palettes)\n",
        "# I like Seaborn's palettes for this plot:\n",
        "palette = choice(seaborn_palettes)\n",
        "\n",
        "# Plot the months/counts:\n",
        "sns.barplot(x=month_names, y=month_counts, hue=month_names, palette=palette)\n",
        "\n",
        "plt.xlabel(\"Month Name\", size=14, weight='bold')\n",
        "plt.ylabel(\"Number of Launches\", size=14, weight='bold')\n",
        "\n",
        "plt.title(f\"Rocket Launches by Month of the Year\\n(color palette: {palette})\",\n",
        "          size=20,\n",
        "          weight='bold')\n",
        "\n",
        "plt.show()"
      ]
    },
    {
      "cell_type": "markdown",
      "metadata": {},
      "source": [
        "#### **_Analysis:_**\n"
      ]
    },
    {
      "cell_type": "markdown",
      "metadata": {},
      "source": [
        "December is the most popular, January the least.\n"
      ]
    },
    {
      "cell_type": "markdown",
      "metadata": {},
      "source": [
        "---\n",
        "---\n"
      ]
    },
    {
      "cell_type": "markdown",
      "metadata": {
        "id": "dPQ_N_sfa-qo",
        "papermill": {
          "duration": 0.067915,
          "end_time": "2020-10-20T21:34:11.122539",
          "exception": false,
          "start_time": "2020-10-20T21:34:11.054624",
          "status": "completed"
        },
        "tags": []
      },
      "source": [
        "## **_How has the Launch Price varied Over Time?_**\n",
        "\n",
        "Create a line chart that shows the average price of rocket launches over time.\n"
      ]
    },
    {
      "cell_type": "markdown",
      "metadata": {},
      "source": [
        "To keep the plot uncluttered, I'll plot by year.\n"
      ]
    },
    {
      "cell_type": "code",
      "execution_count": null,
      "metadata": {},
      "outputs": [],
      "source": [
        "df_data.sample()"
      ]
    },
    {
      "cell_type": "markdown",
      "metadata": {},
      "source": [
        "Create DF with Year and Price:\n"
      ]
    },
    {
      "cell_type": "code",
      "execution_count": null,
      "metadata": {},
      "outputs": [],
      "source": [
        "df_price_year = df_data.filter(['Year', 'Price_US_Mil'], axis=1).sort_values(by='Year')"
      ]
    },
    {
      "cell_type": "markdown",
      "metadata": {},
      "source": [
        "Drop NaN values:\n"
      ]
    },
    {
      "cell_type": "code",
      "execution_count": null,
      "metadata": {},
      "outputs": [],
      "source": [
        "df_price_year.dropna(inplace=True)"
      ]
    },
    {
      "cell_type": "markdown",
      "metadata": {},
      "source": [
        "Drop duplicates:\n"
      ]
    },
    {
      "cell_type": "code",
      "execution_count": null,
      "metadata": {},
      "outputs": [],
      "source": [
        "df_price_year.drop_duplicates(inplace=True)"
      ]
    },
    {
      "cell_type": "markdown",
      "metadata": {},
      "source": [
        "Reset index:\n"
      ]
    },
    {
      "cell_type": "code",
      "execution_count": null,
      "metadata": {},
      "outputs": [],
      "source": [
        "df_price_year.reset_index(inplace=True, drop=True)"
      ]
    },
    {
      "cell_type": "markdown",
      "metadata": {},
      "source": [
        "Ensure conversion to DT objects and set timezone to UTC:\n"
      ]
    },
    {
      "cell_type": "code",
      "execution_count": null,
      "metadata": {},
      "outputs": [],
      "source": [
        "df_price_year['Year'] = pd.to_datetime(\n",
        "    df_price_year['Year'].astype(str), format='%Y')"
      ]
    },
    {
      "cell_type": "markdown",
      "metadata": {},
      "source": [
        "Verify new DF:\n"
      ]
    },
    {
      "cell_type": "markdown",
      "metadata": {},
      "source": [
        "Use dates/register imports again:\n"
      ]
    },
    {
      "cell_type": "code",
      "execution_count": null,
      "metadata": {},
      "outputs": [],
      "source": [
        "import matplotlib.dates as mdates\n",
        "from pandas.plotting import register_matplotlib_converters\n",
        "\n",
        "register_matplotlib_converters()\n",
        "years = mdates.YearLocator(base=5)\n",
        "years_fmt = mdates.DateFormatter('%Y')"
      ]
    },
    {
      "cell_type": "code",
      "execution_count": null,
      "metadata": {},
      "outputs": [],
      "source": [
        "fig, ax = plt.subplots(figsize=(11, 7), dpi=120)\n",
        "\n",
        "ax.set_title(\"Price by Year: All Rocket Launches 1957-Present\\n$Millions (US)\",\n",
        "             fontsize=18, weight='bold')\n",
        "\n",
        "ax.tick_params(axis='both', labelsize=10)\n",
        "\n",
        "ax.set_xlabel('Year', fontsize=14, weight='bold')\n",
        "ax.set_ylabel('Rocket Price', fontsize=14, weight='bold')\n",
        "\n",
        "plt.xticks(fontsize=14, rotation=45)\n",
        "plt.yticks(fontsize=14)\n",
        "\n",
        "ax.xaxis.set_major_locator(years)\n",
        "ax.xaxis.set_major_formatter(years_fmt)\n",
        "\n",
        "ax.set_xlim([df_price_year.Year.min(), df_price_year.Year.max()])\n",
        "ax.set_ylim([df_price_year.Price_US_Mil.min(),\n",
        "            df_price_year.Price_US_Mil.max()])\n",
        "\n",
        "ax.grid(color='gainsboro', linestyle='--')\n",
        "\n",
        "ax.plot(\n",
        "    df_price_year.Year,\n",
        "    df_price_year.Price_US_Mil,\n",
        "    label=\"Launches per Year\",\n",
        "    color='darkorange',\n",
        "    linestyle='dashed',\n",
        ")\n",
        "\n",
        "plt.grid('off')\n",
        "plt.legend()\n",
        "plt.show()"
      ]
    },
    {
      "cell_type": "markdown",
      "metadata": {},
      "source": [
        "#### **_Analysis:_**\n"
      ]
    },
    {
      "cell_type": "markdown",
      "metadata": {},
      "source": [
        "It looks like the price skyrocketed in the mid-80's.\n",
        "\n",
        "If I recall that was the time of the most Space Shuttle launches.\n"
      ]
    },
    {
      "cell_type": "markdown",
      "metadata": {},
      "source": [
        "---\n",
        "---\n"
      ]
    },
    {
      "cell_type": "markdown",
      "metadata": {
        "id": "8OYrWyiOa-qs",
        "papermill": {
          "duration": 0.047152,
          "end_time": "2020-10-20T21:34:11.681371",
          "exception": false,
          "start_time": "2020-10-20T21:34:11.634219",
          "status": "completed"
        },
        "tags": []
      },
      "source": [
        "## **_Chart the Number of Launches over Time by the Top 10 Organisations._**\n",
        "\n",
        "How has the dominance of launches changed over time between the different players?\n"
      ]
    },
    {
      "cell_type": "code",
      "execution_count": null,
      "metadata": {},
      "outputs": [],
      "source": [
        "# Get top 10 organizations in DF as list:\n",
        "org_names_top_10_list = df_data['Organisation'].value_counts().nlargest(\n",
        "    10).index"
      ]
    },
    {
      "cell_type": "code",
      "execution_count": null,
      "metadata": {},
      "outputs": [],
      "source": [
        "# Filter to include only top 10 orgs:\n",
        "df_org_top_10 = df_data[(df_data['Organisation'].isin(org_names_top_10_list))]"
      ]
    },
    {
      "cell_type": "markdown",
      "metadata": {},
      "source": [
        "Custom colors I like for this plot:\n"
      ]
    },
    {
      "cell_type": "code",
      "execution_count": null,
      "metadata": {},
      "outputs": [],
      "source": [
        "colors_10 = ['black', 'darkgrey', 'fuchsia', 'firebrick', 'peru',\n",
        "             'gold', 'forestgreen', 'lime', 'dodgerblue', 'darkorchid']\n",
        "\n",
        "linestyles = ['-', '--', '-.', ':']"
      ]
    },
    {
      "cell_type": "code",
      "execution_count": null,
      "metadata": {},
      "outputs": [],
      "source": [
        "from random import randint\n",
        "\n",
        "fig, ax = plt.subplots(figsize=(11, 8))\n",
        "\n",
        "ind = 0\n",
        "\n",
        "for org, data in df_org_top_10.groupby('Organisation'):\n",
        "    org_data = data.groupby('Year').size()\n",
        "    plt.plot(org_data.index,\n",
        "             org_data.values,\n",
        "             label=org,\n",
        "             color=colors_10[ind],\n",
        "             linewidth=2,\n",
        "             linestyle=choice(linestyles))\n",
        "    ind += 1\n",
        "\n",
        "ax.set_xlim([1957, 2023])\n",
        "\n",
        "ax.set_title(\"Top 10 Space Agencies:\\nNumber of Rocket Launches 1957-2023\",\n",
        "             fontsize=18,\n",
        "             weight='bold')\n",
        "ax.set_xlabel(\"Year\", fontsize=14, weight='bold')\n",
        "ax.set_ylabel(\"Number of Rocket Launches\", fontsize=14, weight='bold')\n",
        "\n",
        "ax.legend(title=\"Space Agency\", title_fontsize='large')\n",
        "\n",
        "plt.show()"
      ]
    },
    {
      "cell_type": "markdown",
      "metadata": {},
      "source": [
        "---\n",
        "---\n"
      ]
    },
    {
      "cell_type": "markdown",
      "metadata": {
        "id": "6Cm8_ch6a-q7",
        "papermill": {
          "duration": 0.052399,
          "end_time": "2020-10-20T21:34:13.756781",
          "exception": false,
          "start_time": "2020-10-20T21:34:13.704382",
          "status": "completed"
        },
        "tags": []
      },
      "source": [
        "## **_Cold War Space Race: USA vs USSR_**\n",
        "\n",
        "The cold war lasted from the start of the dataset up until 1991.\n"
      ]
    },
    {
      "cell_type": "markdown",
      "metadata": {},
      "source": [
        "Create DF with USA and USSR:\n"
      ]
    },
    {
      "cell_type": "code",
      "execution_count": null,
      "metadata": {
        "id": "AcE_U8csrICL"
      },
      "outputs": [],
      "source": [
        "# Check names of countries to wrangle former USSR countries into one group:\n",
        "df_data.Country_Name.unique()"
      ]
    },
    {
      "cell_type": "code",
      "execution_count": null,
      "metadata": {
        "id": "cOe_t4OmrHr9"
      },
      "outputs": [],
      "source": [
        "# The two former Soviet republics:\n",
        "ussr = ['Russian Federation', 'Kazakhstan']\n",
        "# Create DF combining these two values into `df_ussr`:\n",
        "df_ussr = df_data[df_data['Country_Name'].isin(ussr)]\n",
        "# Rename column to USSR:\n",
        "df_ussr.loc[:, 'Country_Name'] = 'USSR'"
      ]
    },
    {
      "cell_type": "code",
      "execution_count": null,
      "metadata": {},
      "outputs": [],
      "source": [
        "# Create DF combining these two values into `df_usa`:\n",
        "df_usa = df_data[df_data['Country_Name'] == 'United States of America']\n",
        "# Rename column to USA:\n",
        "df_usa.loc[:, 'Country_Name'] = 'USA'"
      ]
    },
    {
      "cell_type": "markdown",
      "metadata": {},
      "source": [
        "#### **_Instead of separate DF's, we can do it all in one:_**\n"
      ]
    },
    {
      "cell_type": "code",
      "execution_count": null,
      "metadata": {},
      "outputs": [],
      "source": [
        "# Alternatively, change country names in original DataFrame:\n",
        "#  (maybe we can use both this and the individual DataFrames from before)\n",
        "ussr = ['Russian Federation', 'Kazakhstan']\n",
        "\n",
        "df_usa_ussr = df_data.copy()\n",
        "\n",
        "df_usa_ussr.loc[df_usa_ussr['Country_Name'].isin(\n",
        "    ussr), 'Country_Name'] = 'USSR'\n",
        "\n",
        "df_usa_ussr.loc[df_usa_ussr['Country_Name'] ==\n",
        "                'United States of America', 'Country_Name'] = 'USA'"
      ]
    },
    {
      "cell_type": "code",
      "execution_count": null,
      "metadata": {},
      "outputs": [],
      "source": [
        "# Now, filter out all the other countries:\n",
        "df_usa_ussr = df_usa_ussr[df_usa_ussr['Country_Name'].isin(['USA', 'USSR'])]"
      ]
    },
    {
      "cell_type": "code",
      "execution_count": null,
      "metadata": {},
      "outputs": [],
      "source": [
        "# Now let's remove all dates after 1991:\n",
        "df_usa_ussr = df_usa_ussr[df_usa_ussr['Year'] <= 1991]"
      ]
    },
    {
      "cell_type": "code",
      "execution_count": null,
      "metadata": {},
      "outputs": [],
      "source": [
        "# And reset the index:\n",
        "df_usa_ussr.reset_index(inplace=True, drop=True)"
      ]
    },
    {
      "cell_type": "markdown",
      "metadata": {},
      "source": [
        "---\n"
      ]
    },
    {
      "cell_type": "markdown",
      "metadata": {
        "id": "Os-3A5vLa-q9",
        "papermill": {
          "duration": 0.054318,
          "end_time": "2020-10-20T21:34:14.089604",
          "exception": false,
          "start_time": "2020-10-20T21:34:14.035286",
          "status": "completed"
        },
        "tags": []
      },
      "source": [
        "### **_Create a Plotly Pie Chart comparing the total number of launches of the USSR and the USA_**\n",
        "\n",
        "Hint: Remember to include former Soviet Republics like Kazakhstan when analysing the total number of launches.\n"
      ]
    },
    {
      "cell_type": "code",
      "execution_count": null,
      "metadata": {},
      "outputs": [],
      "source": [
        "# Create series w/value_counts:\n",
        "usa_ussr_counts = df_usa_ussr['Country_Name'].value_counts()"
      ]
    },
    {
      "cell_type": "code",
      "execution_count": null,
      "metadata": {},
      "outputs": [],
      "source": [
        "fig = px.pie(names=usa_ussr_counts.index,\n",
        "             values=usa_ussr_counts,\n",
        "             labels=usa_ussr_counts.index,\n",
        "             width=1000,\n",
        "             height=1000)\n",
        "\n",
        "title = \"USA vs USSR Space Agency Launches:\\nCold War Era (1957-1991)\"\n",
        "\n",
        "fig.update_layout(title=dict(text=title,\n",
        "                             font=dict(size=22),\n",
        "                             automargin=True,\n",
        "                             yref='paper'))\n",
        "\n",
        "fig.update_traces(textposition='inside',\n",
        "                  textinfo='value+percent+label')\n",
        "\n",
        "fig.show()"
      ]
    },
    {
      "cell_type": "markdown",
      "metadata": {},
      "source": [
        "#### **_Analysis:_**\n"
      ]
    },
    {
      "cell_type": "markdown",
      "metadata": {},
      "source": [
        "It appears the USSR had a lot more launches during the Cold War.\n"
      ]
    },
    {
      "cell_type": "markdown",
      "metadata": {},
      "source": [
        "---\n"
      ]
    },
    {
      "cell_type": "code",
      "execution_count": null,
      "metadata": {},
      "outputs": [],
      "source": [
        "colors_varied = ['black', 'darkgrey', 'fuchsia', 'firebrick', 'peru',\n",
        "                 'gold', 'forestgreen', 'lime', 'dodgerblue', 'darkorchid',\n",
        "                 \"b\", \"g\", \"r\", \"c\", \"m\", \"y\", \"k\", \"blueviolet\", \"brown\",\n",
        "                 \"burlywood\", \"cadetblue\", \"chartreuse\", \"chocolate\", \"coral\",\n",
        "                 \"cornflowerblue\", \"mediumblue\", \"mediumorchid\", \"mediumpurple\",\n",
        "                 \"mediumseagreen\",]\n",
        "\n",
        "print(sorted(list(set(colors_varied))))"
      ]
    },
    {
      "cell_type": "markdown",
      "metadata": {
        "id": "0C29Zz4xa-rA",
        "papermill": {
          "duration": 0.052921,
          "end_time": "2020-10-20T21:34:14.340085",
          "exception": false,
          "start_time": "2020-10-20T21:34:14.287164",
          "status": "completed"
        },
        "tags": []
      },
      "source": [
        "### **_Create a Chart that Shows the Total Number of Launches Year-On-Year by the Two Superpowers_**\n"
      ]
    },
    {
      "cell_type": "code",
      "execution_count": null,
      "metadata": {},
      "outputs": [],
      "source": [
        "from random import uniform\n",
        "\n",
        "fig, ax = plt.subplots(figsize=(17, 9))\n",
        "\n",
        "\n",
        "# Soviet Red, Old Glory Blue:\n",
        "red_blue = ['#002868', '#c60000']\n",
        "# Solid and dotted:\n",
        "matplotlib_linestyles = ['-', ':']\n",
        "ind = 0\n",
        "\n",
        "# Vary the linewidths and linestyles randomly:\n",
        "for country, data in df_usa_ussr.groupby('Country_Name'):\n",
        "    country_data = data.groupby('Year').size()\n",
        "    plt.plot(country_data.index,\n",
        "             country_data.values,\n",
        "             label=country,\n",
        "             linewidth=round(uniform(3, 6), 2),  # For variation\n",
        "             linestyle=matplotlib_linestyles[ind],\n",
        "             color=red_blue[ind])\n",
        "    ind += 1\n",
        "\n",
        "ax.set_xlim([1957, 1991])\n",
        "\n",
        "ax.set_title(\"USA vs USSR Cold War Space Agencies:\\nYearly Rocket Launches 1957-1991\",\n",
        "             fontsize=24,\n",
        "             weight='bold')\n",
        "\n",
        "ax.set_xlabel(\"Year\", fontsize=14, weight='bold')\n",
        "ax.set_ylabel(\"Number of Rocket Launches\", fontsize=14, weight=14)\n",
        "\n",
        "ax.legend(title=\"Cold War Superpower\", title_fontsize='large')\n",
        "\n",
        "plt.show()"
      ]
    },
    {
      "cell_type": "markdown",
      "metadata": {},
      "source": [
        "#### **_Analysis:_**\n"
      ]
    },
    {
      "cell_type": "markdown",
      "metadata": {},
      "source": [
        "Looks like the Soviets had a lot more launchesafter the early 60's, the US had a lot more until that point.\n"
      ]
    },
    {
      "cell_type": "markdown",
      "metadata": {},
      "source": [
        "---\n"
      ]
    },
    {
      "cell_type": "markdown",
      "metadata": {
        "id": "eWv4iZmra-rE",
        "papermill": {
          "duration": 0.079311,
          "end_time": "2020-10-20T21:34:14.933058",
          "exception": false,
          "start_time": "2020-10-20T21:34:14.853747",
          "status": "completed"
        },
        "tags": []
      },
      "source": [
        "### **_Chart the Total Number of Mission Failures Year on Year._**\n"
      ]
    },
    {
      "cell_type": "code",
      "execution_count": null,
      "metadata": {},
      "outputs": [],
      "source": [
        "df_usa_ussr.Mission_Status.unique()"
      ]
    },
    {
      "cell_type": "code",
      "execution_count": null,
      "metadata": {
        "id": "I-Zss5-Mre-4"
      },
      "outputs": [],
      "source": [
        "failure_types = ['Success', 'Failure', 'Partial Failure', 'Prelaunch Failure']\n",
        "\n",
        "df_cold_war_failure = df_usa_ussr[df_usa_ussr['Mission_Status'].isin(\n",
        "    failure_types)]"
      ]
    },
    {
      "cell_type": "markdown",
      "metadata": {},
      "source": [
        "Modify the previous plot to show Mission Failures:\n"
      ]
    },
    {
      "cell_type": "code",
      "execution_count": null,
      "metadata": {},
      "outputs": [],
      "source": [
        "from random import uniform\n",
        "\n",
        "fig, ax = plt.subplots(figsize=(17, 9))\n",
        "\n",
        "\n",
        "# Soviet Red, Old Glory Blue:\n",
        "red_blue = ['#002868', '#c60000']\n",
        "# Solid and dotted:\n",
        "matplotlib_linestyles = ['-', ':']\n",
        "ind = 0\n",
        "\n",
        "for country, data in df_cold_war_failure.groupby('Country_Name'):\n",
        "    country_data = data.groupby('Year').size()\n",
        "    plt.plot(country_data.index,\n",
        "             country_data.values,\n",
        "             label=country,\n",
        "             linewidth=round(uniform(3, 6), 2),\n",
        "             linestyle=matplotlib_linestyles[ind],\n",
        "             color=red_blue[ind])\n",
        "    ind += 1\n",
        "\n",
        "ax.set_xlim([1957, 1991])\n",
        "\n",
        "title = \"USA vs USSR Cold War Space Agencies:\\nYearly Rocket Launch Failures 1957-1991\\nIncludes 'Failures', 'Partial Failures' and 'Prelaunch Failures'\"\n",
        "\n",
        "ax.set_title(title,\n",
        "             fontsize=24,\n",
        "             weight='bold')\n",
        "\n",
        "ax.set_xlabel(\"Year\", fontsize=14, weight='bold')\n",
        "ax.set_ylabel(\"Number of Rocket Launch Failures\", fontsize=14, weight=14)\n",
        "\n",
        "ax.legend(title=\"Cold War Superpower\", title_fontsize='large')\n",
        "\n",
        "plt.show()"
      ]
    },
    {
      "cell_type": "markdown",
      "metadata": {},
      "source": [
        "#### **_Analysis:_**\n"
      ]
    },
    {
      "cell_type": "markdown",
      "metadata": {},
      "source": [
        "From the plot, it looks like the US had more failures early on, then things evened out.\n",
        "\n",
        "It appears the USSR was better than the US at first, then by the late 60's had a dramatic increase in Mission Failures, then things evened out by the late 70's.\n",
        "\n",
        "From the late 70's through 1991, the US and USSR both had more consistent success, but the US still had about half to one-third as many failures.\n"
      ]
    },
    {
      "cell_type": "markdown",
      "metadata": {},
      "source": [
        "---\n"
      ]
    },
    {
      "cell_type": "markdown",
      "metadata": {
        "id": "XNp-NkrJriEF"
      },
      "source": [
        "### **_Chart the Percentage of Failures over Time_**\n",
        "\n",
        "Did failures go up or down over time? Did the countries get better at minimising risk and improving their chances of success over time?\n"
      ]
    },
    {
      "cell_type": "markdown",
      "metadata": {},
      "source": [
        "Create a DF which counts the number of total missions per year:\n"
      ]
    },
    {
      "cell_type": "code",
      "execution_count": null,
      "metadata": {},
      "outputs": [],
      "source": [
        "df_cold_missions = df_usa_ussr.groupby(\n",
        "    ['Country_Name', 'Year']).size().reset_index(name='Total_Missions')"
      ]
    },
    {
      "cell_type": "markdown",
      "metadata": {},
      "source": [
        "Create another DF which counts the successes per year for each country:\n"
      ]
    },
    {
      "cell_type": "code",
      "execution_count": null,
      "metadata": {
        "id": "Kj3-zsI0rhOS"
      },
      "outputs": [],
      "source": [
        "df_cold_successes = df_usa_ussr[df_usa_ussr['Mission_Status'] == 'Success'].groupby(\n",
        "    ['Country_Name', 'Year']).size().reset_index(name='Success_Count')"
      ]
    },
    {
      "cell_type": "markdown",
      "metadata": {
        "id": "nxnnzx89rwvH"
      },
      "source": [
        "Merge the total missions and successes DataFrames:\n"
      ]
    },
    {
      "cell_type": "code",
      "execution_count": null,
      "metadata": {
        "id": "_TPWaaJ5r1Fz"
      },
      "outputs": [],
      "source": [
        "df_cold_merged = df_cold_missions.merge(\n",
        "    df_cold_successes, on=['Country_Name', 'Year'], how='left')"
      ]
    },
    {
      "cell_type": "markdown",
      "metadata": {},
      "source": [
        "Ensure years without successes have `0` instead of `NaN`:\n"
      ]
    },
    {
      "cell_type": "code",
      "execution_count": null,
      "metadata": {},
      "outputs": [],
      "source": [
        "df_cold_merged['Success_Count'] = df_cold_merged['Success_Count'].fillna(0)"
      ]
    },
    {
      "cell_type": "markdown",
      "metadata": {},
      "source": [
        "Now add a column for success percentage:\n"
      ]
    },
    {
      "cell_type": "code",
      "execution_count": null,
      "metadata": {},
      "outputs": [],
      "source": [
        "success_ratio = (df_cold_merged.Success_Count / df_cold_merged.Total_Missions)\n",
        "\n",
        "df_cold_merged['Success_Percentage'] = success_ratio * 100"
      ]
    },
    {
      "cell_type": "markdown",
      "metadata": {},
      "source": [
        "Sort by year for clarity of chronology in viewing DF:\n"
      ]
    },
    {
      "cell_type": "code",
      "execution_count": null,
      "metadata": {},
      "outputs": [],
      "source": [
        "df_cold_merged.sort_values(by=['Year'], inplace=True)"
      ]
    },
    {
      "cell_type": "markdown",
      "metadata": {},
      "source": [
        "Check the DF:\n"
      ]
    },
    {
      "cell_type": "code",
      "execution_count": null,
      "metadata": {},
      "outputs": [],
      "source": [
        "df_cold_merged"
      ]
    },
    {
      "cell_type": "markdown",
      "metadata": {},
      "source": [
        "Plot percentage:\n"
      ]
    },
    {
      "cell_type": "markdown",
      "metadata": {},
      "source": [
        "I first tried plotting everything on one axis, but that obscured the different y-axis scales:\n"
      ]
    },
    {
      "cell_type": "code",
      "execution_count": null,
      "metadata": {},
      "outputs": [],
      "source": [
        "from random import uniform\n",
        "\n",
        "fig, ax = plt.subplots(figsize=(17, 9))\n",
        "\n",
        "red_blue = ['#002868', '#c60000']\n",
        "matplotlib_linestyles = ['-', ':', '-', ':']\n",
        "color_ind = 0\n",
        "line_ind = 0\n",
        "\n",
        "for country, data in df_cold_merged.groupby('Country_Name'):\n",
        "    plt.plot(data.Year,\n",
        "             data.Success_Percentage,\n",
        "             label=f\"{country} Success Percentage\",\n",
        "             linewidth=round(uniform(3, 6), 2),\n",
        "             linestyle=matplotlib_linestyles[line_ind],\n",
        "             color=red_blue[color_ind])\n",
        "    line_ind += 1\n",
        "    plt.plot(data.Year,\n",
        "             data.Total_Missions,\n",
        "             label=f\"{country} Mission Total\",\n",
        "             linewidth=round(uniform(3, 6), 2),\n",
        "             linestyle=matplotlib_linestyles[line_ind],\n",
        "             color=red_blue[color_ind])\n",
        "    color_ind += 1\n",
        "\n",
        "ax.set_xlim([1957, 1991])\n",
        "\n",
        "title = \"USA vs USSR Cold War Space Agencies 1957-1991:\\nNumber of Launches and Percentage Success\\n\"\n",
        "\n",
        "ax.set_title(title,\n",
        "             fontsize=24,\n",
        "             weight='bold')\n",
        "\n",
        "ax.set_xlabel(\"Year\", fontsize=14, weight='bold')\n",
        "ax.set_ylabel(\"Number of Rocket Launch Failures\", fontsize=14, weight=14)\n",
        "\n",
        "ax.legend(title=\"Cold War Superpower\", title_fontsize='large')\n",
        "\n",
        "plt.show()"
      ]
    },
    {
      "cell_type": "markdown",
      "metadata": {},
      "source": [
        "So I decided on a dual-axis, one for Number of Missions, one for Percentage Success:\n"
      ]
    },
    {
      "cell_type": "code",
      "execution_count": null,
      "metadata": {},
      "outputs": [],
      "source": [
        "from random import uniform\n",
        "\n",
        "fig, ax1 = plt.subplots(figsize=(17, 9))\n",
        "ax2 = ax1.twinx()\n",
        "\n",
        "red_blue = ['#002868', '#c60000']\n",
        "dashed = ['--', ':']\n",
        "color_ind = 0\n",
        "\n",
        "\n",
        "for country, data in df_cold_merged.groupby('Country_Name'):\n",
        "    ax1.plot(data.Year,\n",
        "             data.Total_Missions,\n",
        "             label=f\"{country} Number of Missions\",\n",
        "             linewidth=round(uniform(2, 5), 2),\n",
        "             linestyle='-',\n",
        "             color=red_blue[color_ind])\n",
        "    ax2.plot(data.Year,\n",
        "             data.Success_Percentage,\n",
        "             label=f\"{country} Success Percentage\",\n",
        "             linewidth=round(uniform(2, 4), 2),\n",
        "             linestyle=choice(dashed),\n",
        "             color=red_blue[color_ind], alpha=.7)\n",
        "    color_ind += 1\n",
        "\n",
        "ax1.set_xlim([1957, 1991])\n",
        "\n",
        "title = \"USA vs USSR Cold War Space Agencies 1957-1991:\"\n",
        "title += \"\\nNumber of Launches and Percentage Success\"\n",
        "\n",
        "ax1_color = 'gainsboro'\n",
        "ax1.set_title(title, fontsize=24, weight='bold')\n",
        "\n",
        "ax1.set_xlabel(\"Year\", fontsize=14, weight='bold')\n",
        "ax1.set_ylabel(\"Number of Rocket Launch Failures\",\n",
        "               fontsize=14,\n",
        "               weight='bold',\n",
        "               color=ax1_color)\n",
        "ax1.grid(color=ax1_color, linestyle='-')\n",
        "\n",
        "ax2_color = 'grey'\n",
        "ax2.set_ylabel(\"Success Percentage\",\n",
        "               fontsize=14,\n",
        "               weight='bold',\n",
        "               color=ax2_color)\n",
        "ax2.grid(color=ax2_color, linestyle=':')\n",
        "\n",
        "lines, labels = ax1.get_legend_handles_labels()\n",
        "lines2, labels2 = ax2.get_legend_handles_labels()\n",
        "ax2.legend(lines + lines2,\n",
        "           labels + labels2,\n",
        "           title=\"Cold War Superpower\",\n",
        "           title_fontsize='large')\n",
        "\n",
        "# Alternatively, make legends separately:\n",
        "# ax1.legend(title=\"Number of Missions\", title_fontsize='large', loc='upper left')\n",
        "# ax2.legend(title=\"Success Percentage\", title_fontsize='large', loc='upper right')\n",
        "\n",
        "plt.show()"
      ]
    },
    {
      "cell_type": "markdown",
      "metadata": {},
      "source": [
        "#### **_Analysis:_**\n"
      ]
    },
    {
      "cell_type": "markdown",
      "metadata": {},
      "source": [
        "USA had more launches in the early 1960's.\n",
        "\n",
        "USSR had a lot more launches in the 1970's.\n",
        "\n",
        "Both nations had steady launch amounts in the 1980's, with USSR averaging about 40 a year and the USA under 20 during this time.\n",
        "\n",
        "The success rates were poor in the beginning for both nations.\n",
        "\n",
        "Then the US and USSR maintained about 80-90% success rates subsequently, although the USA had a few noticable dips in the succes rate throughout the time while maintaining this average.\n",
        "\n",
        "USSR had a steep decline in launch number in the late 1970's and never achieved the same level of launches after that. I cannot say whether that's a good or bad thing for them -- perhaps fewer launches means more focused, competent projects?\n",
        "\n",
        "A very descriptive plot, all in all!\n"
      ]
    },
    {
      "cell_type": "markdown",
      "metadata": {},
      "source": [
        "---\n",
        "---\n"
      ]
    },
    {
      "cell_type": "markdown",
      "metadata": {
        "id": "S5aOC7bGr2OX"
      },
      "source": [
        "## **_For Every Year Show which Country was in the Lead in terms of Total Number of Launches (up to and including including 2020)_**\n",
        "\n",
        "Do the results change if we only look at the number of successful launches?\n"
      ]
    },
    {
      "cell_type": "markdown",
      "metadata": {},
      "source": [
        "Create DataFrame which groups entries by Country/Year size for years before and including 2020:\n"
      ]
    },
    {
      "cell_type": "code",
      "execution_count": null,
      "metadata": {
        "id": "_h0grIXKsOz_"
      },
      "outputs": [],
      "source": [
        "# Assert two columns in `.groupby()` params to for granular control of aggregated data:\n",
        "df_country_year = df_data.groupby(\n",
        "    ['Country_Name', 'Year']).size().reset_index(name='Yearly_Launches')"
      ]
    },
    {
      "cell_type": "markdown",
      "metadata": {},
      "source": [
        "Order the DF by year for clarity in chronology:\n"
      ]
    },
    {
      "cell_type": "code",
      "execution_count": null,
      "metadata": {},
      "outputs": [],
      "source": [
        "df_country_year.sort_values(by=['Year'], inplace=True)"
      ]
    },
    {
      "cell_type": "code",
      "execution_count": null,
      "metadata": {},
      "outputs": [],
      "source": [
        "df_country_year = df_country_year[df_country_year['Year'] <= 2020]"
      ]
    },
    {
      "cell_type": "markdown",
      "metadata": {},
      "source": [
        "Get the indices with the max number of entries for each year w/equation which asserts the `.transform()` method:\n"
      ]
    },
    {
      "cell_type": "code",
      "execution_count": null,
      "metadata": {},
      "outputs": [],
      "source": [
        "ind_eq1 = df_country_year.groupby('Year')['Yearly_Launches'].transform('max')\n",
        "ind_eq2 = df_country_year['Yearly_Launches']\n",
        "\n",
        "indices = ind_eq1 == ind_eq2"
      ]
    },
    {
      "cell_type": "markdown",
      "metadata": {},
      "source": [
        "Use the indices to filter the DF to get country names:\n"
      ]
    },
    {
      "cell_type": "code",
      "execution_count": null,
      "metadata": {},
      "outputs": [],
      "source": [
        "df_country_year_max = df_country_year[indices]"
      ]
    },
    {
      "cell_type": "markdown",
      "metadata": {},
      "source": [
        "Reset the index for clarity and consistency, `drop=True` to not create new index column:\n"
      ]
    },
    {
      "cell_type": "code",
      "execution_count": null,
      "metadata": {},
      "outputs": [],
      "source": [
        "df_country_year_max.reset_index(inplace=True, drop=True)"
      ]
    },
    {
      "cell_type": "markdown",
      "metadata": {},
      "source": [
        "View the results:\n"
      ]
    },
    {
      "cell_type": "code",
      "execution_count": null,
      "metadata": {},
      "outputs": [],
      "source": [
        "df_country_year_max"
      ]
    },
    {
      "cell_type": "code",
      "execution_count": null,
      "metadata": {},
      "outputs": [],
      "source": [
        "color_list = ['black', 'blue', 'brown', 'chocolate', 'cornflowerblue', 'crimson',\n",
        "              'darkblue', 'darkcyan', 'darkgoldenrod', 'darkgreen', 'darkkhaki',\n",
        "              'darkmagenta', 'darkolivegreen', 'darkorange', 'darkorchid', 'darkred',\n",
        "              'darksalmon', 'darkseagreen', 'darkslateblue', 'darkslategray',\n",
        "              'darkslategrey', 'darkturquoise', 'darkviolet', 'deeppink', 'dimgray',\n",
        "              'dodgerblue', 'firebrick', 'forestgreen', 'goldenrod', 'green', 'greenyellow', 'indigo', 'lightgreen', 'limegreen', 'maroon', 'mediumblue',\n",
        "              'mediumseagreen', 'mediumslateblue', 'mediumspringgreen', 'midnightblue',\n",
        "              'navy', 'olive', 'olivedrab', 'palegreen', 'peru', 'purple', 'rebeccapurple', 'rosybrown', 'royalblue', 'saddlebrown', 'sandybrown',\n",
        "              'seagreen', 'sienna', 'slateblue', 'springgreen', 'steelblue', 'yellowgreen']\n",
        "\n",
        "bar_colors = choices(color_list, k=len(df_country_year_max.Year))"
      ]
    },
    {
      "cell_type": "markdown",
      "metadata": {},
      "source": [
        "Concatenate Country_Name and Year for the label:\n"
      ]
    },
    {
      "cell_type": "code",
      "execution_count": null,
      "metadata": {},
      "outputs": [],
      "source": [
        "zip_year_country = zip(df_country_year_max.Year,\n",
        "                       df_country_year_max.Country_Name,\n",
        "                       df_country_year_max.Yearly_Launches)\n",
        "\n",
        "labels_year_country = [\n",
        "    f\"{year}: {country} ({num})\" for country, year, num in zip_year_country\n",
        "]"
      ]
    },
    {
      "cell_type": "code",
      "execution_count": null,
      "metadata": {},
      "outputs": [],
      "source": [
        "fig, ax = plt.subplots(figsize=(13, 11))\n",
        "\n",
        "ax.bar(x=df_country_year_max.Year,\n",
        "       height=df_country_year_max.Yearly_Launches,\n",
        "       label=labels_year_country,\n",
        "       color=bar_colors)\n",
        "\n",
        "ax.set_title(\"Country Launch Leader by Year\", fontsize=36, weight='bold')\n",
        "ax.set_xlabel(\"Country\", fontsize=18)\n",
        "ax.set_ylabel(\"Number of Launches\", fontsize=18)\n",
        "\n",
        "plt.legend(ncol=2,\n",
        "           title=\"Country: Year (Number of Launches)\",\n",
        "           fontsize='medium',\n",
        "           bbox_to_anchor=(1.05, 1))\n",
        "\n",
        "plt.xticks(rotation=90)\n",
        "\n",
        "plt.show()"
      ]
    },
    {
      "cell_type": "markdown",
      "metadata": {},
      "source": [
        "To answer the question:\n",
        "\n",
        "_Do the results change if we only look at the number of successful launches?_\n",
        "\n",
        "Let's now create a DF for Country Launcher Leader by Year for successful launches only.\n",
        "\n",
        "Repeat the exact same process as above but filtering the DF by column: Mission_Status: Success...\n"
      ]
    },
    {
      "cell_type": "code",
      "execution_count": null,
      "metadata": {},
      "outputs": [],
      "source": [
        "# Create DF filtering for Mission_Status == Success:\n",
        "df_success = df_data[df_data['Mission_Status'] == 'Success']\n",
        "\n",
        "# Group by country name then year, create those columns and another for launch count:\n",
        "df_success_year = df_data.groupby(\n",
        "    ['Country_Name', 'Year']).size().reset_index(name='Yearly_Launches')\n",
        "\n",
        "\n",
        "df_success_year.sort_values(by=['Year'], inplace=True)\n",
        "\n",
        "df_success_year = df_success_year[df_success_year['Year'] <= 2020]\n",
        "\n",
        "# Get indices for max entry per year and create DF for max counts:\n",
        "ind_eq1 = df_success_year.groupby('Year')['Yearly_Launches'].transform('max')\n",
        "ind_eq2 = df_success_year['Yearly_Launches']\n",
        "indices = ind_eq1 == ind_eq2\n",
        "df_success_year_max = df_success_year[indices]\n",
        "df_success_year_max.reset_index(inplace=True, drop=True)\n",
        "df_success_year_max\n",
        "\n",
        "# Clear colors to display on white background\n",
        "color_list = ['black', 'blue', 'brown', 'chocolate', 'cornflowerblue', 'crimson',\n",
        "              'darkblue', 'darkcyan', 'darkgoldenrod', 'darkgreen', 'darkkhaki',\n",
        "              'darkmagenta', 'darkolivegreen', 'darkorange', 'darkorchid', 'darkred',\n",
        "              'darksalmon', 'darkseagreen', 'darkslateblue', 'darkslategray',\n",
        "              'darkslategrey', 'darkturquoise', 'darkviolet', 'deeppink', 'dimgray',\n",
        "              'dodgerblue', 'firebrick', 'forestgreen', 'goldenrod', 'green', 'greenyellow', 'indigo', 'lightgreen', 'limegreen', 'maroon', 'mediumblue',\n",
        "              'mediumseagreen', 'mediumslateblue', 'mediumspringgreen', 'midnightblue',\n",
        "              'navy', 'olive', 'olivedrab', 'palegreen', 'peru', 'purple', 'rebeccapurple', 'rosybrown', 'royalblue', 'saddlebrown', 'sandybrown',\n",
        "              'seagreen', 'sienna', 'slateblue', 'springgreen', 'steelblue', 'yellowgreen']\n",
        "\n",
        "# Pick the amount of colors for the length of the DF:\n",
        "bar_colors = choices(color_list, k=len(df_success_year_max.Year))\n",
        "\n",
        "# Create descriptive labels for legend:\n",
        "zip_year_country = zip(df_success_year_max.Year,\n",
        "                       df_success_year_max.Country_Name,\n",
        "                       df_success_year_max.Yearly_Launches)\n",
        "\n",
        "labels_year_country = [f\"{year}: {\n",
        "    country} ({num})\" for country, year, num in zip_year_country]\n",
        "\n",
        "# Now plot and see if there's a difference when we plot based only on Successes:\n",
        "fig, ax = plt.subplots(figsize=(13, 11))\n",
        "\n",
        "ax.bar(x=df_success_year_max.Year,\n",
        "       height=df_success_year_max.Yearly_Launches,\n",
        "       label=labels_year_country,\n",
        "       color=bar_colors)\n",
        "\n",
        "ax.set_title(\"Country Launch Leader by Year\", fontsize=36, weight='bold')\n",
        "ax.set_xlabel(\"Country\", fontsize=18)\n",
        "ax.set_ylabel(\"Number of Launches\", fontsize=18)\n",
        "\n",
        "plt.legend(ncol=2,\n",
        "           title=\"Country: Year (Number of Launches)\",\n",
        "           fontsize='medium',\n",
        "           bbox_to_anchor=(1.05, 1))\n",
        "\n",
        "plt.xticks(rotation=90)\n",
        "\n",
        "plt.show()"
      ]
    },
    {
      "cell_type": "markdown",
      "metadata": {},
      "source": [
        "It's hard to analyze quickly by looking at the plots, let's just print out the results for the all-inclusive DF and the successes DF in pairs:\n"
      ]
    },
    {
      "cell_type": "code",
      "execution_count": null,
      "metadata": {},
      "outputs": [],
      "source": [
        "differences = 0\n",
        "\n",
        "for i in range(len(df_success_year_max.Country_Name)):\n",
        "    year_all = df_country_year_max.Year[i]\n",
        "    country_all = df_country_year_max.Country_Name[i]\n",
        "    year_success = df_success_year_max.Year[i]\n",
        "    country_success = df_success_year_max.Country_Name[i]\n",
        "\n",
        "    # # Print all the info:\n",
        "    # print(f\"{year_all}: {country_all} (all launches leader)\")\n",
        "    # print(f\"{year_success}: {country_success} (successful launches leader)\")\n",
        "\n",
        "    # # Print just the difference:\n",
        "    if country_all != country_success:\n",
        "        differences += 1\n",
        "        print(f\"{year_all}: {country_all} (all launches leader)\")\n",
        "        print(f\"{year_success}: {country_success} (successful launches leader)\")\n",
        "\n",
        "print(f\"There were {differences} year(s) with different results.\")"
      ]
    },
    {
      "cell_type": "markdown",
      "metadata": {},
      "source": [
        "Nope -- the data remains the same.\n",
        "\n",
        "We can try the same thing below for Organisations, after the initial operation...\n"
      ]
    },
    {
      "cell_type": "markdown",
      "metadata": {},
      "source": [
        "---\n",
        "---\n"
      ]
    },
    {
      "cell_type": "markdown",
      "metadata": {
        "id": "jQcqBfJ8serG"
      },
      "source": [
        "## **_Create a Year-on-Year Chart Showing the Organisation Doing the Most Number of Launches_**\n",
        "\n",
        "Which organisation was dominant in the 1970s and 1980s? Which organisation was dominant in 2018, 2019 and 2020?\n"
      ]
    },
    {
      "cell_type": "markdown",
      "metadata": {
        "id": "jc9ImQEWsztG"
      },
      "source": [
        "Just do what we did above for countries, but with organisations:\n"
      ]
    },
    {
      "cell_type": "code",
      "execution_count": null,
      "metadata": {},
      "outputs": [],
      "source": [
        "df_org_year = df_data.groupby(\n",
        "    ['Organisation', 'Year']).size().reset_index(name='Yearly_Launches')\n",
        "\n",
        "df_org_year.sort_values(by=['Year'], inplace=True)\n",
        "\n",
        "df_org_year = df_org_year[df_org_year['Year'] <= 2020]\n",
        "\n",
        "ind_eq1 = df_org_year.groupby('Year')['Yearly_Launches'].transform('max')\n",
        "ind_eq2 = df_org_year['Yearly_Launches']\n",
        "indices = ind_eq1 == ind_eq2\n",
        "\n",
        "df_org_year_max = df_org_year[indices]\n",
        "\n",
        "df_org_year_max.reset_index(inplace=True, drop=True)"
      ]
    },
    {
      "cell_type": "markdown",
      "metadata": {},
      "source": [
        "Verify the result:\n"
      ]
    },
    {
      "cell_type": "code",
      "execution_count": null,
      "metadata": {},
      "outputs": [],
      "source": [
        "df_org_year_max"
      ]
    },
    {
      "cell_type": "code",
      "execution_count": null,
      "metadata": {},
      "outputs": [],
      "source": [
        "color_list = ['black', 'blue', 'brown', 'chocolate', 'cornflowerblue', 'crimson',\n",
        "              'darkblue', 'darkcyan', 'darkgoldenrod', 'darkgreen', 'darkkhaki',\n",
        "              'darkmagenta', 'darkolivegreen', 'darkorange', 'darkorchid', 'darkred',\n",
        "              'darksalmon', 'darkseagreen', 'darkslateblue', 'darkslategray',\n",
        "              'darkslategrey', 'darkturquoise', 'darkviolet', 'deeppink', 'dimgray',\n",
        "              'dodgerblue', 'firebrick', 'forestgreen', 'goldenrod', 'green', 'greenyellow', 'indigo', 'lightgreen', 'limegreen', 'maroon', 'mediumblue',\n",
        "              'mediumseagreen', 'mediumslateblue', 'mediumspringgreen', 'midnightblue',\n",
        "              'navy', 'olive', 'olivedrab', 'palegreen', 'peru', 'purple', 'rebeccapurple', 'rosybrown', 'royalblue', 'saddlebrown', 'sandybrown',\n",
        "              'seagreen', 'sienna', 'slateblue', 'springgreen', 'steelblue', 'yellowgreen']\n",
        "\n",
        "bar_colors = choices(color_list, k=len(df_org_year_max.Year))"
      ]
    },
    {
      "cell_type": "markdown",
      "metadata": {},
      "source": [
        "Concatenate Country_Name and Year for the label:\n"
      ]
    },
    {
      "cell_type": "code",
      "execution_count": null,
      "metadata": {},
      "outputs": [],
      "source": [
        "zip_year_org = zip(df_org_year_max.Year,\n",
        "                   df_org_year_max.Organisation,\n",
        "                   df_org_year_max.Yearly_Launches)\n",
        "\n",
        "labels_year_org = [f\"{year}: {org} ({num})\" for org, year, num in zip_year_org]"
      ]
    },
    {
      "cell_type": "code",
      "execution_count": null,
      "metadata": {},
      "outputs": [],
      "source": [
        "fig, ax = plt.subplots(figsize=(13, 11))\n",
        "\n",
        "ax.bar(x=df_org_year_max.Year,\n",
        "       height=df_org_year_max.Yearly_Launches,\n",
        "       label=labels_year_org,\n",
        "       color=bar_colors)\n",
        "\n",
        "ax.set_title(\"Organisation Launch Leader by Year\", fontsize=36, weight='bold')\n",
        "ax.set_xlabel(\"Organisation\", fontsize=18)\n",
        "ax.set_ylabel(\"Number of Launches\", fontsize=18)\n",
        "\n",
        "plt.legend(ncol=2,\n",
        "           title=\"Organisation: Year (Number of Launches)\",\n",
        "           fontsize='medium',\n",
        "           bbox_to_anchor=(1.05, 1))\n",
        "\n",
        "plt.xticks(rotation=90)\n",
        "\n",
        "plt.show()"
      ]
    },
    {
      "cell_type": "markdown",
      "metadata": {},
      "source": [
        "Answering Angela's questions:\n",
        "\n",
        "Which organisation was dominant in the 1970s and 1980s?\n",
        "\n",
        "-   RVSN USSR\n",
        "\n",
        "Which organisation was dominant in 2018, 2019 and 2020?\n",
        "\n",
        "-   CASC\n"
      ]
    },
    {
      "cell_type": "markdown",
      "metadata": {},
      "source": [
        "Now to check if there is a difference if we analyze Organisation leaders based only on successes:\n"
      ]
    },
    {
      "cell_type": "code",
      "execution_count": null,
      "metadata": {},
      "outputs": [],
      "source": [
        "# Create DF filtering for Mission_Status == Success:\n",
        "df_org_success = df_data[df_data['Mission_Status'] == 'Success']\n",
        "\n",
        "# Group by org name then year, create those columns and another for launch count:\n",
        "df_org_success_year = df_data.groupby(\n",
        "    ['Organisation', 'Year']).size().reset_index(name='Yearly_Launches')\n",
        "\n",
        "\n",
        "df_org_success_year.sort_values(by=['Year'], inplace=True)\n",
        "\n",
        "df_org_success_year = df_org_success_year[df_org_success_year['Year'] <= 2020]\n",
        "\n",
        "# Get indices for max entry per year and create DF for max counts:\n",
        "ind_eq1 = df_org_success_year.groupby(\n",
        "    'Year')['Yearly_Launches'].transform('max')\n",
        "ind_eq2 = df_org_success_year['Yearly_Launches']\n",
        "indices = ind_eq1 == ind_eq2\n",
        "df_org_success_year_max = df_org_success_year[indices]\n",
        "df_org_success_year_max.reset_index(inplace=True, drop=True)\n",
        "df_org_success_year_max\n",
        "\n",
        "# Clear colors to display on white background\n",
        "color_list = ['black', 'blue', 'brown', 'chocolate', 'cornflowerblue', 'crimson',\n",
        "              'darkblue', 'darkcyan', 'darkgoldenrod', 'darkgreen', 'darkkhaki',\n",
        "              'darkmagenta', 'darkolivegreen', 'darkorange', 'darkorchid', 'darkred',\n",
        "              'darksalmon', 'darkseagreen', 'darkslateblue', 'darkslategray',\n",
        "              'darkslategrey', 'darkturquoise', 'darkviolet', 'deeppink', 'dimgray',\n",
        "              'dodgerblue', 'firebrick', 'forestgreen', 'goldenrod', 'green', 'greenyellow', 'indigo', 'lightgreen', 'limegreen', 'maroon', 'mediumblue',\n",
        "              'mediumseagreen', 'mediumslateblue', 'mediumspringgreen', 'midnightblue',\n",
        "              'navy', 'olive', 'olivedrab', 'palegreen', 'peru', 'purple', 'rebeccapurple', 'rosybrown', 'royalblue', 'saddlebrown', 'sandybrown',\n",
        "              'seagreen', 'sienna', 'slateblue', 'springgreen', 'steelblue', 'yellowgreen']\n",
        "\n",
        "# Pick the amount of colors for the length of the DF:\n",
        "bar_colors = choices(color_list, k=len(df_org_success_year_max.Year))\n",
        "\n",
        "# Create descriptive labels for legend:\n",
        "zip_year_org = zip(df_org_success_year_max.Year,\n",
        "                   df_org_success_year_max.Organisation,\n",
        "                   df_org_success_year_max.Yearly_Launches)\n",
        "\n",
        "labels_year_org = [f\"{year}: {org} ({num})\" for org, year, num in zip_year_org]\n",
        "\n",
        "# Now plot and see if there's a difference when we plot based only on Successes:\n",
        "fig, ax = plt.subplots(figsize=(13, 11))\n",
        "\n",
        "ax.bar(x=df_org_success_year_max.Year,\n",
        "       height=df_org_success_year_max.Yearly_Launches,\n",
        "       label=labels_year_org,\n",
        "       color=bar_colors)\n",
        "\n",
        "ax.set_title(\"Organisation Launch Leader by Year\", fontsize=36, weight='bold')\n",
        "ax.set_xlabel(\"Organisation\", fontsize=18)\n",
        "ax.set_ylabel(\"Number of Launches\", fontsize=18)\n",
        "\n",
        "plt.legend(ncol=2,\n",
        "           title=\"Organisation: Year (Number of Launches)\",\n",
        "           fontsize='medium',\n",
        "           bbox_to_anchor=(1.05, 1))\n",
        "\n",
        "plt.xticks(rotation=90)\n",
        "\n",
        "plt.show()"
      ]
    },
    {
      "cell_type": "markdown",
      "metadata": {},
      "source": [
        "It's hard to analyze quickly by looking at the plots, let's just print out the results for the all-inclusive DF and the successes DF in pairs:\n"
      ]
    },
    {
      "cell_type": "code",
      "execution_count": null,
      "metadata": {},
      "outputs": [],
      "source": [
        "differences = 0\n",
        "\n",
        "for i in range(len(df_org_year_max.Organisation)):\n",
        "    year_all = df_org_year_max.Year[i]\n",
        "    org_all = df_org_year_max.Organisation[i]\n",
        "    year_success = df_org_success_year_max.Year[i]\n",
        "    org_success = df_org_success_year_max.Organisation[i]\n",
        "\n",
        "    # # Print all the info:\n",
        "    # print(f\"{year_all}: {org_all} (all launches leader)\")\n",
        "    # print(f\"{year_success}: {org_success} (successful launches leader)\")\n",
        "\n",
        "    # # Print just the difference:\n",
        "    if org_all != org_success:\n",
        "        differences += 1\n",
        "        print(f\"{year_all}: {org_all} (all launches leader)\")\n",
        "        print(f\"{year_success}: {org_success} (successful launches leader)\")\n",
        "\n",
        "print(f\"There were {differences} year(s) with different results.\")"
      ]
    },
    {
      "cell_type": "markdown",
      "metadata": {},
      "source": [
        "The results are the same, regardless of whether we include all launches of only successful launches.\n"
      ]
    },
    {
      "cell_type": "markdown",
      "metadata": {},
      "source": [
        "## **_Conclusion:_**\n",
        "\n",
        "A very difficult project, but I got through it and completed the problems well, as far as I can see.\n",
        "\n",
        "Lots of room for improvement on my part, but also I think I've come a long way and have a very solid grasp of concepts related to Pandas, Matplotlib, Plotly, Seaborn and other related libraries and subjects.\n",
        "\n",
        "I used StackOverflow and other similar sites like GeeksforGeeks, as well as read, researched and studied the primary documentation.\n",
        "\n",
        "ChatGPT was extremely helpful for helping me when I got stuck on more advanced Pandas challenges, and sometimes with plotting. I feel like I understand everything that I've written above.\n",
        "\n",
        "Difficult day's assignment, took about a week.\n",
        "\n",
        "Now on the the final day, almost there!\n",
        "\n",
        "Note:\n",
        "\n",
        "In the intro Angela uses `from datetime import datetime, timedelta`, I didn't end up using this...it's worth a closer look how I could have implemented these modules.\n"
      ]
    }
  ],
  "metadata": {
    "colab": {
      "name": "Space Missions Analysis (start).ipynb",
      "provenance": []
    },
    "kernelspec": {
      "display_name": "Python 3",
      "language": "python",
      "name": "python3"
    },
    "language_info": {
      "codemirror_mode": {
        "name": "ipython",
        "version": 3
      },
      "file_extension": ".py",
      "mimetype": "text/x-python",
      "name": "python",
      "nbconvert_exporter": "python",
      "pygments_lexer": "ipython3",
      "version": "3.12.3"
    },
    "papermill": {
      "duration": 28.468597,
      "end_time": "2020-10-20T21:34:26.910951",
      "environment_variables": {},
      "exception": null,
      "input_path": "__notebook__.ipynb",
      "output_path": "__notebook__.ipynb",
      "parameters": {},
      "start_time": "2020-10-20T21:33:58.442354",
      "version": "2.1.0"
    }
  },
  "nbformat": 4,
  "nbformat_minor": 0
}
